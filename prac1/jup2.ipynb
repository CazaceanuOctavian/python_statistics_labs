{
 "cells": [
  {
   "cell_type": "code",
   "execution_count": 74,
   "metadata": {},
   "outputs": [],
   "source": [
    "import pandas as pd "
   ]
  },
  {
   "cell_type": "code",
   "execution_count": 75,
   "metadata": {},
   "outputs": [],
   "source": [
    "df = pd.read_csv(\"inputs/prezenta_vot.csv\")\n",
    "df_jud = pd.read_csv(\"inputs/Coduri_Judete.csv\")\n",
    "df_regiuni = pd.read_csv(\"inputs/Coduri_Regiuni.csv\")"
   ]
  },
  {
   "cell_type": "markdown",
   "metadata": {},
   "source": [
    "### 1_EXTRAGEREA LOCALITATILOR CARE AU AVUT PREZENTA LA VOT > 50%\n",
    "- setul de date rezultat trebuie sa aiba structura cod_localitate - nume_localitate - prezenta_vot\n"
   ]
  },
  {
   "cell_type": "markdown",
   "metadata": {},
   "source": [
    "- se extrage coloanele de localitate, de LP(lista permanenta de vot) si de LT(voturile totale)\n",
    "- se transforma valorile in procente si se salveaza listele noi rezultate \n",
    "- se aplica o masca pentru a selecta doar localitatiile cu prezenta la vot > 50%\n",
    "- se scriu in outputs/part1.csv"
   ]
  },
  {
   "cell_type": "code",
   "execution_count": 76,
   "metadata": {},
   "outputs": [
    {
     "name": "stdout",
     "output_type": "stream",
     "text": [
      "      Siruta     Localitate  Votanti_LP         LT\n",
      "1       1071         Ciugud        2656  53.765060\n",
      "12      2381       Arieseni        1366  66.398243\n",
      "20      3805         Cergau        1276  50.705329\n",
      "21      3841  Ceru-Bacainti         213  77.934272\n",
      "23      4008     Ciuruleasa         945  61.904762\n",
      "...      ...            ...         ...        ...\n",
      "3134  179604  Poienile Izei         724  50.276243\n",
      "3152  179793         Buesti         834  55.875300\n",
      "3156  179837           Coas        1179  55.470738\n",
      "3165  179926       Rascaeti        1789  58.188932\n",
      "3176  180037         Boghis        1471  51.801496\n",
      "\n",
      "[359 rows x 4 columns]\n"
     ]
    }
   ],
   "source": [
    "df_prezenta_procentuala_vot = df.loc[:, ['Siruta','Localitate', 'Votanti_LP', 'LT']]\n",
    "df_prezenta_procentuala_vot['LT'] = df_prezenta_procentuala_vot['LT']/df_prezenta_procentuala_vot['Votanti_LP'] * 100\n",
    "percentage_constraint_mask = df_prezenta_procentuala_vot['LT'] > 50 \n",
    "df_prezenta_procentuala_vot[percentage_constraint_mask].to_csv('outputs/part1.csv', columns=['Siruta', 'Localitate', 'LT'])\n",
    "print(df_prezenta_procentuala_vot[percentage_constraint_mask])"
   ]
  },
  {
   "cell_type": "markdown",
   "metadata": {},
   "source": [
    "### 2_SORTAREA LOCALITATILOR IN FUNCTIE DE PREZENTA PROCENTUALA LA VOT\n",
    "- se sorteaza localitatiile dupa prezenta procentuala la vot si se scriu in acelasi format ca si in partea1 intr-un fisier .csv"
   ]
  },
  {
   "cell_type": "code",
   "execution_count": 77,
   "metadata": {},
   "outputs": [
    {
     "name": "stdout",
     "output_type": "stream",
     "text": [
      "      Siruta    Localitate  Votanti_LP          LT\n",
      "1879  111220        Ciresu         382  147.120419\n",
      "1471   89151        Cerbal         391  120.971867\n",
      "1910  113153  Poroina Mare         762  113.385827\n",
      "1905  112806        Padina         964  105.082988\n",
      "1901  112600      Livezile        1146  104.450262\n",
      "...      ...           ...         ...         ...\n",
      "3179  180064    Barbulesti        4097   11.398584\n",
      "2507  145998        Vurpar        2086   10.882071\n",
      "1633   98916      Scanteia        9128   10.319895\n",
      "1619   98202         Mosna        7510    7.723036\n",
      "1602   97241      Grajduri        8245    7.713766\n",
      "\n",
      "[3181 rows x 4 columns]\n"
     ]
    }
   ],
   "source": [
    "df_prezenta_procentuala_vot.sort_values(by=['LT'], inplace=True, ascending=False)\n",
    "print(df_prezenta_procentuala_vot)\n",
    "df_prezenta_procentuala_vot.to_csv('outputs/part2.csv', columns=['Siruta', 'Localitate', 'LT'])"
   ]
  },
  {
   "cell_type": "markdown",
   "metadata": {},
   "source": [
    "### 3_EXTRAGEREA NIVELULUI DE PREZENTA LA VOT PER REGIUNI\n",
    "- cum in df(prezenta_vot.csv) nu avem date despre regiuni va trebui sa facem merge cu df_judete unde avem si regiunile\n",
    "- creaza un dataframe nou care sa retina totalul de votanti_lp/regiune si totalul LT/regiune \n",
    "- tranformam in procente \n",
    "- salvam in fisier .csv"
   ]
  },
  {
   "cell_type": "code",
   "execution_count": 78,
   "metadata": {},
   "outputs": [
    {
     "name": "stdout",
     "output_type": "stream",
     "text": [
      "      Siruta Judet  Votanti_LP     LT IndicativJudet  NumeJudet    Regiune\n",
      "0       1017    ab       61753  21764             ab       Alba     Centru\n",
      "1       1071    ab        2656   1428             ab       Alba     Centru\n",
      "2       1151    ab        4491   1645             ab       Alba     Centru\n",
      "3       1213    ab       21348   5949             ab       Alba     Centru\n",
      "4       1348    ab       16807   5623             ab       Alba     Centru\n",
      "...      ...   ...         ...    ...            ...        ...        ...\n",
      "3176  180037    sj        1471    762             sj      Salaj  Nord-Vest\n",
      "3177  180046    il        2043    517             il   Ialomita        Sud\n",
      "3178  180055    cl        1653    606             cl   Calarasi        Sud\n",
      "3179  180064    il        4097    467             il   Ialomita        Sud\n",
      "3180  180091    sm        2438    839             sm  Satu Mare  Nord-Vest\n",
      "\n",
      "[3181 rows x 7 columns]\n",
      "            Region  Votanti_LP_per_region  LT_per_region  \\\n",
      "0           Centru              2130641.0       701413.0   \n",
      "1             Vest              1655709.0       510808.0   \n",
      "2              Sud              2594650.0       843436.0   \n",
      "3         Nord-Est              3241811.0       893706.0   \n",
      "4        Nord-Vest              2305247.0       764859.0   \n",
      "5          Sud-Est              2310947.0       724209.0   \n",
      "6         Sud-Vest              1776124.0       662112.0   \n",
      "7  Bucuresti-Ilfov              2176267.0       692592.0   \n",
      "\n",
      "   LT_per_region_percentage  \n",
      "0                 32.920281  \n",
      "1                 30.851315  \n",
      "2                 32.506735  \n",
      "3                 27.568109  \n",
      "4                 33.179048  \n",
      "5                 31.338192  \n",
      "6                 37.278478  \n",
      "7                 31.824772  \n"
     ]
    }
   ],
   "source": [
    "df_slice = df.loc[:, ['Siruta', 'Judet', 'Votanti_LP', 'LT']]\n",
    "#print(df_slice)\n",
    "#print(df_jud)\n",
    "df_regional = df_slice.merge(df_jud, left_on='Judet', right_on='IndicativJudet')\n",
    "print(df_regional)\n",
    "\n",
    "df_percentage_per_region = pd.DataFrame()\n",
    "df_percentage_per_region['Region'] = df_regional['Regiune'].unique()\n",
    "\n",
    "for currentRegion in df_percentage_per_region['Region'].values:\n",
    "    region_mask = df_regional['Regiune'] == currentRegion\n",
    "    current_region_sum = df_regional[region_mask]['Votanti_LP'].sum()\n",
    "    current_region_LT = df_regional[region_mask]['LT'].sum()\n",
    "    #df.loc[current_idx, 'Votanti_totali']\n",
    "    df_percentage_per_region.loc[df_percentage_per_region['Region'] == currentRegion, 'Votanti_LP_per_region'] = current_region_sum\n",
    "    df_percentage_per_region.loc[df_percentage_per_region['Region'] == currentRegion, 'LT_per_region'] = current_region_LT\n",
    "\n",
    "df_percentage_per_region['LT_per_region_percentage'] = df_percentage_per_region['LT_per_region']/df_percentage_per_region['Votanti_LP_per_region'] * 100\n",
    "\n",
    "df_percentage_per_region.to_csv('outputs/part3.csv')\n",
    "\n",
    "print(df_percentage_per_region)"
   ]
  },
  {
   "cell_type": "markdown",
   "metadata": {},
   "source": [
    "### 4_EXTRAGEREA PER LOCALITATE A CATEGORIEI DE VARSTA PREDOMINANT PREZENTA LA VOT\n",
    "- se creaza un dataframe nou ce tine suma dintre nr de femei si barbati per categorii de varsta\n",
    "- se adauga dataframe-ului o coloana cu varsta ce retine numele coloanei de varsta cu cea mai numeroasa prezenta\n",
    "- rezultatul se va scrie intr-un fisier .csv "
   ]
  },
  {
   "cell_type": "code",
   "execution_count": 80,
   "metadata": {},
   "outputs": [
    {
     "name": "stdout",
     "output_type": "stream",
     "text": [
      "                 Localitate  18-24  25-34  35-44  45-64   65_  \\\n",
      "0     Municipiul Alba Iulia   1623   3016   4531   8490  4104   \n",
      "1                    Ciugud    104    211    262    500   351   \n",
      "2                Oras Abrud    137    166    232    800   310   \n",
      "3           Municipiul Aiud    488    650    859   2508  1444   \n",
      "4           Municipiul Blaj    461    617    894   2261  1390   \n",
      "...                     ...    ...    ...    ...    ...   ...   \n",
      "3176                 Boghis     77    125    133    264   163   \n",
      "3177         Gura Ialomitei     47     54     93    204   119   \n",
      "3178                 Crivat     39     78     89    250   150   \n",
      "3179             Barbulesti     58     73    102    198    36   \n",
      "3180                  Racsa     50     76    119    352   242   \n",
      "\n",
      "     Dominant_age_group  \n",
      "0                 45-64  \n",
      "1                 45-64  \n",
      "2                 45-64  \n",
      "3                 45-64  \n",
      "4                 45-64  \n",
      "...                 ...  \n",
      "3176              45-64  \n",
      "3177              45-64  \n",
      "3178              45-64  \n",
      "3179              45-64  \n",
      "3180              45-64  \n",
      "\n",
      "[3181 rows x 7 columns]\n"
     ]
    }
   ],
   "source": [
    "df_age_groups_segregated = df.iloc[:, df.columns.get_loc('Barbati_18-24'):]\n",
    "df_age_groups_united = pd.DataFrame()\n",
    "df_age_groups_united['Localitate'] = df['Localitate']\n",
    "df_age_groups_united['18-24'] = df_age_groups_segregated['Barbati_18-24'] + df_age_groups_segregated['Femei_18-24']\n",
    "df_age_groups_united['25-34'] = df_age_groups_segregated['Barbati_25-34'] + df_age_groups_segregated['Femei_25-34']\n",
    "df_age_groups_united['35-44'] = df_age_groups_segregated['Barbati_35-44'] + df_age_groups_segregated['Femei_35-44']\n",
    "df_age_groups_united['45-64'] = df_age_groups_segregated['Barbati_45-64'] + df_age_groups_segregated['Femei_45-64']\n",
    "df_age_groups_united['65_'] = df_age_groups_segregated['Barbati_65_'] + df_age_groups_segregated['Femei_65_']    \n",
    "\n",
    "df_age_groups_united['Dominant_age_group'] = df_age_groups_united.iloc[:, 1:].idxmax(axis=1)\n",
    "\n",
    "df_age_groups_united.to_csv('outputs/part4.csv')\n",
    "\n",
    "print(df_age_groups_united)\n"
   ]
  },
  {
   "cell_type": "markdown",
   "metadata": {},
   "source": [
    "### 5_SA SE EXTRAGA DOAR ACELE LOCALITATI CARE AU CA MAJORITATE GRUPA DOMINANTA DE VARSTA\n",
    "- pentru a gasi grupa majoritara de varsta putem sa calculam modul pe setul coloana dominant_age_group din cerinta trecuta\n",
    "- dupa ce am gasit grupa majoritara vom face o masca pe setul de date care o cuprinde doar pe ea \n",
    "- scriem datele gasite in csv"
   ]
  },
  {
   "cell_type": "markdown",
   "metadata": {},
   "source": []
  },
  {
   "cell_type": "code",
   "execution_count": null,
   "metadata": {},
   "outputs": [],
   "source": []
  }
 ],
 "metadata": {
  "kernelspec": {
   "display_name": "Python 3",
   "language": "python",
   "name": "python3"
  },
  "language_info": {
   "codemirror_mode": {
    "name": "ipython",
    "version": 3
   },
   "file_extension": ".py",
   "mimetype": "text/x-python",
   "name": "python",
   "nbconvert_exporter": "python",
   "pygments_lexer": "ipython3",
   "version": "3.12.5"
  }
 },
 "nbformat": 4,
 "nbformat_minor": 2
}
