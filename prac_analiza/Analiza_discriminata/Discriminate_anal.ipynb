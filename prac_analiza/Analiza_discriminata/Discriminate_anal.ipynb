{
 "cells": [
  {
   "cell_type": "code",
   "execution_count": 56,
   "metadata": {},
   "outputs": [],
   "source": [
    "import pandas as pd\n",
    "import numpy as np\n",
    "from pandas.api.types import is_numeric_dtype\n",
    "from sklearn.preprocessing import StandardScaler\n",
    "from sklearn.datasets import load_iris\n",
    "from sklearn.discriminant_analysis import LinearDiscriminantAnalysis\n",
    "from sklearn.discriminant_analysis import QuadraticDiscriminantAnalysis\n",
    "from sklearn.metrics import classification_report, confusion_matrix\n",
    "import matplotlib.pyplot as plt"
   ]
  },
  {
   "cell_type": "markdown",
   "metadata": {},
   "source": [
    "### Sample dataset pe care se poate testa analiza discriminata"
   ]
  },
  {
   "cell_type": "code",
   "execution_count": 8,
   "metadata": {},
   "outputs": [],
   "source": [
    "iris = load_iris()\n",
    "\n",
    "#convert dataset to pandas DataFrame\n",
    "df_iris = pd.DataFrame(data = np.c_[iris['data'], iris['target']],\n",
    "                 columns = iris['feature_names'] + ['target'])\n",
    "df_iris['species'] = pd.Categorical.from_codes(iris.target, iris.target_names)\n",
    "df_iris.columns = ['s_length', 's_width', 'p_length', 'p_width', 'target', 'species']"
   ]
  },
  {
   "cell_type": "markdown",
   "metadata": {},
   "source": [
    "Datele sunt deja scalate asa ca nu mai folosim linearScaler pentru a le aduce la alta forma"
   ]
  },
  {
   "cell_type": "code",
   "execution_count": 9,
   "metadata": {},
   "outputs": [
    {
     "data": {
      "text/html": [
       "<div>\n",
       "<style scoped>\n",
       "    .dataframe tbody tr th:only-of-type {\n",
       "        vertical-align: middle;\n",
       "    }\n",
       "\n",
       "    .dataframe tbody tr th {\n",
       "        vertical-align: top;\n",
       "    }\n",
       "\n",
       "    .dataframe thead th {\n",
       "        text-align: right;\n",
       "    }\n",
       "</style>\n",
       "<table border=\"1\" class=\"dataframe\">\n",
       "  <thead>\n",
       "    <tr style=\"text-align: right;\">\n",
       "      <th></th>\n",
       "      <th>s_length</th>\n",
       "      <th>s_width</th>\n",
       "      <th>p_length</th>\n",
       "      <th>p_width</th>\n",
       "      <th>target</th>\n",
       "      <th>species</th>\n",
       "    </tr>\n",
       "  </thead>\n",
       "  <tbody>\n",
       "    <tr>\n",
       "      <th>0</th>\n",
       "      <td>5.1</td>\n",
       "      <td>3.5</td>\n",
       "      <td>1.4</td>\n",
       "      <td>0.2</td>\n",
       "      <td>0.0</td>\n",
       "      <td>setosa</td>\n",
       "    </tr>\n",
       "    <tr>\n",
       "      <th>1</th>\n",
       "      <td>4.9</td>\n",
       "      <td>3.0</td>\n",
       "      <td>1.4</td>\n",
       "      <td>0.2</td>\n",
       "      <td>0.0</td>\n",
       "      <td>setosa</td>\n",
       "    </tr>\n",
       "    <tr>\n",
       "      <th>2</th>\n",
       "      <td>4.7</td>\n",
       "      <td>3.2</td>\n",
       "      <td>1.3</td>\n",
       "      <td>0.2</td>\n",
       "      <td>0.0</td>\n",
       "      <td>setosa</td>\n",
       "    </tr>\n",
       "    <tr>\n",
       "      <th>3</th>\n",
       "      <td>4.6</td>\n",
       "      <td>3.1</td>\n",
       "      <td>1.5</td>\n",
       "      <td>0.2</td>\n",
       "      <td>0.0</td>\n",
       "      <td>setosa</td>\n",
       "    </tr>\n",
       "    <tr>\n",
       "      <th>4</th>\n",
       "      <td>5.0</td>\n",
       "      <td>3.6</td>\n",
       "      <td>1.4</td>\n",
       "      <td>0.2</td>\n",
       "      <td>0.0</td>\n",
       "      <td>setosa</td>\n",
       "    </tr>\n",
       "    <tr>\n",
       "      <th>...</th>\n",
       "      <td>...</td>\n",
       "      <td>...</td>\n",
       "      <td>...</td>\n",
       "      <td>...</td>\n",
       "      <td>...</td>\n",
       "      <td>...</td>\n",
       "    </tr>\n",
       "    <tr>\n",
       "      <th>145</th>\n",
       "      <td>6.7</td>\n",
       "      <td>3.0</td>\n",
       "      <td>5.2</td>\n",
       "      <td>2.3</td>\n",
       "      <td>2.0</td>\n",
       "      <td>virginica</td>\n",
       "    </tr>\n",
       "    <tr>\n",
       "      <th>146</th>\n",
       "      <td>6.3</td>\n",
       "      <td>2.5</td>\n",
       "      <td>5.0</td>\n",
       "      <td>1.9</td>\n",
       "      <td>2.0</td>\n",
       "      <td>virginica</td>\n",
       "    </tr>\n",
       "    <tr>\n",
       "      <th>147</th>\n",
       "      <td>6.5</td>\n",
       "      <td>3.0</td>\n",
       "      <td>5.2</td>\n",
       "      <td>2.0</td>\n",
       "      <td>2.0</td>\n",
       "      <td>virginica</td>\n",
       "    </tr>\n",
       "    <tr>\n",
       "      <th>148</th>\n",
       "      <td>6.2</td>\n",
       "      <td>3.4</td>\n",
       "      <td>5.4</td>\n",
       "      <td>2.3</td>\n",
       "      <td>2.0</td>\n",
       "      <td>virginica</td>\n",
       "    </tr>\n",
       "    <tr>\n",
       "      <th>149</th>\n",
       "      <td>5.9</td>\n",
       "      <td>3.0</td>\n",
       "      <td>5.1</td>\n",
       "      <td>1.8</td>\n",
       "      <td>2.0</td>\n",
       "      <td>virginica</td>\n",
       "    </tr>\n",
       "  </tbody>\n",
       "</table>\n",
       "<p>150 rows × 6 columns</p>\n",
       "</div>"
      ],
      "text/plain": [
       "     s_length  s_width  p_length  p_width  target    species\n",
       "0         5.1      3.5       1.4      0.2     0.0     setosa\n",
       "1         4.9      3.0       1.4      0.2     0.0     setosa\n",
       "2         4.7      3.2       1.3      0.2     0.0     setosa\n",
       "3         4.6      3.1       1.5      0.2     0.0     setosa\n",
       "4         5.0      3.6       1.4      0.2     0.0     setosa\n",
       "..        ...      ...       ...      ...     ...        ...\n",
       "145       6.7      3.0       5.2      2.3     2.0  virginica\n",
       "146       6.3      2.5       5.0      1.9     2.0  virginica\n",
       "147       6.5      3.0       5.2      2.0     2.0  virginica\n",
       "148       6.2      3.4       5.4      2.3     2.0  virginica\n",
       "149       5.9      3.0       5.1      1.8     2.0  virginica\n",
       "\n",
       "[150 rows x 6 columns]"
      ]
     },
     "execution_count": 9,
     "metadata": {},
     "output_type": "execute_result"
    }
   ],
   "source": [
    "df_iris"
   ]
  },
  {
   "cell_type": "markdown",
   "metadata": {},
   "source": [
    "### Ce face analiza discriminanta \n",
    "- Analiza discriminanta se foloseste pentru a clasifica o variabla de raspuns in doua sau mai multe clase, bazat pe mai multe variabile predictor\n",
    "    - Exemplu: Vrem sa clasificam specia unei flori iris dupa dimensiunile petalelor etc..."
   ]
  },
  {
   "cell_type": "markdown",
   "metadata": {},
   "source": [
    "### 1_ Calcul scoruri discriminate in model liniar\n",
    "- Pentru a calcula scorurile trebuie mai intai sa decidem care este variabila de raspuns si care sunt variabilele predictor\n",
    "    - X --> Array care contine variabilele predictor --> s_length, s_width ...\n",
    "    - Y --> Array care contine variabilele raspuns --> species\n"
   ]
  },
  {
   "cell_type": "code",
   "execution_count": 22,
   "metadata": {},
   "outputs": [
    {
     "data": {
      "text/plain": [
       "array([[ 8.06179978e+00, -3.00420621e-01],\n",
       "       [ 7.12868772e+00,  7.86660426e-01],\n",
       "       [ 7.48982797e+00,  2.65384488e-01],\n",
       "       [ 6.81320057e+00,  6.70631068e-01],\n",
       "       [ 8.13230933e+00, -5.14462530e-01],\n",
       "       [ 7.70194674e+00, -1.46172097e+00],\n",
       "       [ 7.21261762e+00, -3.55836209e-01],\n",
       "       [ 7.60529355e+00,  1.16338380e-02],\n",
       "       [ 6.56055159e+00,  1.01516362e+00],\n",
       "       [ 7.34305989e+00,  9.47319209e-01],\n",
       "       [ 8.39738652e+00, -6.47363392e-01],\n",
       "       [ 7.21929685e+00,  1.09646389e-01],\n",
       "       [ 7.32679599e+00,  1.07298943e+00],\n",
       "       [ 7.57247066e+00,  8.05464137e-01],\n",
       "       [ 9.84984300e+00, -1.58593698e+00],\n",
       "       [ 9.15823890e+00, -2.73759647e+00],\n",
       "       [ 8.58243141e+00, -1.83448945e+00],\n",
       "       [ 7.78075375e+00, -5.84339407e-01],\n",
       "       [ 8.07835876e+00, -9.68580703e-01],\n",
       "       [ 8.02097451e+00, -1.14050366e+00],\n",
       "       [ 7.49680227e+00,  1.88377220e-01],\n",
       "       [ 7.58648117e+00, -1.20797032e+00],\n",
       "       [ 8.68104293e+00, -8.77590154e-01],\n",
       "       [ 6.25140358e+00, -4.39696367e-01],\n",
       "       [ 6.55893336e+00,  3.89222752e-01],\n",
       "       [ 6.77138315e+00,  9.70634453e-01],\n",
       "       [ 6.82308032e+00, -4.63011612e-01],\n",
       "       [ 7.92461638e+00, -2.09638715e-01],\n",
       "       [ 7.99129024e+00, -8.63787128e-02],\n",
       "       [ 6.82946447e+00,  5.44960851e-01],\n",
       "       [ 6.75895493e+00,  7.59002759e-01],\n",
       "       [ 7.37495254e+00, -5.65844592e-01],\n",
       "       [ 9.12634625e+00, -1.22443267e+00],\n",
       "       [ 9.46768199e+00, -1.82522635e+00],\n",
       "       [ 7.06201386e+00,  6.63400423e-01],\n",
       "       [ 7.95876243e+00,  1.64961722e-01],\n",
       "       [ 8.61367201e+00, -4.03253602e-01],\n",
       "       [ 8.33041759e+00, -2.28133530e-01],\n",
       "       [ 6.93412007e+00,  7.05519379e-01],\n",
       "       [ 7.68823131e+00,  9.22362309e-03],\n",
       "       [ 7.91793715e+00, -6.75121313e-01],\n",
       "       [ 5.66188065e+00,  1.93435524e+00],\n",
       "       [ 7.24101468e+00,  2.72615132e-01],\n",
       "       [ 6.41443556e+00, -1.24730131e+00],\n",
       "       [ 6.85944381e+00, -1.05165396e+00],\n",
       "       [ 6.76470393e+00,  5.05151855e-01],\n",
       "       [ 8.08189937e+00, -7.63392750e-01],\n",
       "       [ 7.18676904e+00,  3.60986823e-01],\n",
       "       [ 8.31444876e+00, -6.44953177e-01],\n",
       "       [ 7.67196741e+00,  1.34893840e-01],\n",
       "       [-1.45927545e+00, -2.85437643e-02],\n",
       "       [-1.79770574e+00, -4.84385502e-01],\n",
       "       [-2.41694888e+00,  9.27840307e-02],\n",
       "       [-2.26247349e+00,  1.58725251e+00],\n",
       "       [-2.54867836e+00,  4.72204898e-01],\n",
       "       [-2.42996725e+00,  9.66132066e-01],\n",
       "       [-2.44848456e+00, -7.95961954e-01],\n",
       "       [-2.22666513e-01,  1.58467318e+00],\n",
       "       [-1.75020123e+00,  8.21180130e-01],\n",
       "       [-1.95842242e+00,  3.51563753e-01],\n",
       "       [-1.19376031e+00,  2.63445570e+00],\n",
       "       [-1.85892567e+00, -3.19006544e-01],\n",
       "       [-1.15809388e+00,  2.64340991e+00],\n",
       "       [-2.66605725e+00,  6.42504540e-01],\n",
       "       [-3.78367218e-01, -8.66389312e-02],\n",
       "       [-1.20117255e+00, -8.44373592e-02],\n",
       "       [-2.76810246e+00, -3.21995363e-02],\n",
       "       [-7.76854039e-01,  1.65916185e+00],\n",
       "       [-3.49805433e+00,  1.68495616e+00],\n",
       "       [-1.09042788e+00,  1.62658350e+00],\n",
       "       [-3.71589615e+00, -1.04451442e+00],\n",
       "       [-9.97610366e-01,  4.90530602e-01],\n",
       "       [-3.83525931e+00,  1.40595806e+00],\n",
       "       [-2.25741249e+00,  1.42679423e+00],\n",
       "       [-1.25571326e+00,  5.46424197e-01],\n",
       "       [-1.43755762e+00,  1.34424979e-01],\n",
       "       [-2.45906137e+00,  9.35277280e-01],\n",
       "       [-3.51848495e+00, -1.60588866e-01],\n",
       "       [-2.58979871e+00,  1.74611728e-01],\n",
       "       [ 3.07487884e-01,  1.31887146e+00],\n",
       "       [-1.10669179e+00,  1.75225371e+00],\n",
       "       [-6.05524589e-01,  1.94298038e+00],\n",
       "       [-8.98703769e-01,  9.04940034e-01],\n",
       "       [-4.49846635e+00,  8.82749915e-01],\n",
       "       [-2.93397799e+00, -2.73791065e-02],\n",
       "       [-2.10360821e+00, -1.19156767e+00],\n",
       "       [-2.14258208e+00, -8.87797815e-02],\n",
       "       [-2.47945603e+00,  1.94073927e+00],\n",
       "       [-1.32552574e+00,  1.62869550e-01],\n",
       "       [-1.95557887e+00,  1.15434826e+00],\n",
       "       [-2.40157020e+00,  1.59458341e+00],\n",
       "       [-2.29248878e+00,  3.32860296e-01],\n",
       "       [-1.27227224e+00,  1.21458428e+00],\n",
       "       [-2.93176055e-01,  1.79871509e+00],\n",
       "       [-2.00598883e+00,  9.05418042e-01],\n",
       "       [-1.18166311e+00,  5.37570242e-01],\n",
       "       [-1.61615645e+00,  4.70103580e-01],\n",
       "       [-1.42158879e+00,  5.51244626e-01],\n",
       "       [ 4.75973788e-01,  7.99905482e-01],\n",
       "       [-1.54948259e+00,  5.93363582e-01],\n",
       "       [-7.83947399e+00, -2.13973345e+00],\n",
       "       [-5.50747997e+00,  3.58139892e-02],\n",
       "       [-6.29200850e+00, -4.67175777e-01],\n",
       "       [-5.60545633e+00,  3.40738058e-01],\n",
       "       [-6.85055995e+00, -8.29825394e-01],\n",
       "       [-7.41816784e+00,  1.73117995e-01],\n",
       "       [-4.67799541e+00,  4.99095015e-01],\n",
       "       [-6.31692685e+00,  9.68980756e-01],\n",
       "       [-6.32773684e+00,  1.38328993e+00],\n",
       "       [-6.85281335e+00, -2.71758963e+00],\n",
       "       [-4.44072512e+00, -1.34723692e+00],\n",
       "       [-5.45009572e+00,  2.07736942e-01],\n",
       "       [-5.66033713e+00, -8.32713617e-01],\n",
       "       [-5.95823722e+00,  9.40175447e-02],\n",
       "       [-6.75926282e+00, -1.60023206e+00],\n",
       "       [-5.80704331e+00, -2.01019882e+00],\n",
       "       [-5.06601233e+00,  2.62733839e-02],\n",
       "       [-6.60881882e+00, -1.75163587e+00],\n",
       "       [-9.17147486e+00,  7.48255067e-01],\n",
       "       [-4.76453569e+00,  2.15573720e+00],\n",
       "       [-6.27283915e+00, -1.64948141e+00],\n",
       "       [-5.36071189e+00, -6.46120732e-01],\n",
       "       [-7.58119982e+00,  9.80722934e-01],\n",
       "       [-4.37150279e+00,  1.21297458e-01],\n",
       "       [-5.72317531e+00, -1.29327553e+00],\n",
       "       [-5.27915920e+00,  4.24582377e-02],\n",
       "       [-4.08087208e+00, -1.85936572e-01],\n",
       "       [-4.07703640e+00, -5.23238483e-01],\n",
       "       [-6.51910397e+00, -2.96976389e-01],\n",
       "       [-4.58371942e+00,  8.56815813e-01],\n",
       "       [-6.22824009e+00,  7.12719638e-01],\n",
       "       [-5.22048773e+00, -1.46819509e+00],\n",
       "       [-6.80015000e+00, -5.80895175e-01],\n",
       "       [-3.81515972e+00,  9.42985932e-01],\n",
       "       [-5.10748966e+00,  2.13059000e+00],\n",
       "       [-6.79671631e+00, -8.63090395e-01],\n",
       "       [-6.52449599e+00, -2.44503527e+00],\n",
       "       [-4.99550279e+00, -1.87768525e-01],\n",
       "       [-3.93985300e+00, -6.14020389e-01],\n",
       "       [-5.20383090e+00, -1.14476808e+00],\n",
       "       [-6.65308685e+00, -1.80531976e+00],\n",
       "       [-5.10555946e+00, -1.99218201e+00],\n",
       "       [-5.50747997e+00,  3.58139892e-02],\n",
       "       [-6.79601924e+00, -1.46068695e+00],\n",
       "       [-6.84735943e+00, -2.42895067e+00],\n",
       "       [-5.64500346e+00, -1.67771734e+00],\n",
       "       [-5.17956460e+00,  3.63475041e-01],\n",
       "       [-4.96774090e+00, -8.21140550e-01],\n",
       "       [-5.88614539e+00, -2.34509051e+00],\n",
       "       [-4.68315426e+00, -3.32033811e-01]])"
      ]
     },
     "execution_count": 22,
     "metadata": {},
     "output_type": "execute_result"
    }
   ],
   "source": [
    "df_predictor = df_iris.iloc[:, 0:4]\n",
    "df_response = df_iris['species']\n",
    "\n",
    "model = LinearDiscriminantAnalysis()\n",
    "model.fit(df_predictor, df_response)\n",
    "\n",
    "discriminant_scores = model.transform(df_predictor)\n",
    "discriminant_scores"
   ]
  },
  {
   "cell_type": "markdown",
   "metadata": {},
   "source": [
    "### 2_ Trasare plot instante in axe discriminate\n",
    "- Ne uitam in variabila raspuns si selectam toate categoriile unice din ea\n",
    "- Generam cate o culoare pentru fiecare categorie unica pe care o avem \n",
    "- Pentru a da plot la scoruri:\n",
    "    - Fiecare scor calculat cu discriminant_scores are in df_response categoria din care face parte \n",
    "    - Pentru fiecare categorie generam o masca pentru a extrage doar acele valori si a le da plot in culoarea generata\n",
    "- TODO --> Pentru a face lucrurile mai clare poti pune discriminant scores si df_response in acelasi dataframe..."
   ]
  },
  {
   "cell_type": "code",
   "execution_count": 38,
   "metadata": {},
   "outputs": [
    {
     "data": {
      "image/png": "[encoded data removed]",
      "text/plain": [
       "<Figure size 640x480 with 1 Axes>"
      ]
     },
     "metadata": {},
     "output_type": "display_data"
    }
   ],
   "source": [
    "#Obtinem clasele unice din variabila raspuns\n",
    "unique_classes = np.unique(df_response)\n",
    "\n",
    "#Generam culori pentru fiecare clasa\n",
    "colors = plt.cm.rainbow(np.linspace(0, 1, len(unique_classes)))\n",
    "\n",
    "for color, class_label in zip(colors, unique_classes):\n",
    "    mask = df_response == class_label\n",
    "    #Selecteaza doar acele scoruri care apartin clasei folosind masca\n",
    "    #Apoi selecteaza componenta 0 --> coordonata x si componenta 1 --> coordonata y\n",
    "    #Masca functioneaza pentru ca pentru fiecare x,y din discriminant_scores are ca si corespondent un df_response \n",
    "    plt.scatter(discriminant_scores[mask, 0], discriminant_scores[mask, 1], \n",
    "                color=color,\n",
    "                label=f'{class_label}')\n",
    "\n",
    "plt.xlabel('Prima componentă discriminantă')\n",
    "plt.ylabel('A doua componentă discriminantă')\n",
    "plt.title('Vizualizare LDA a datelor')\n",
    "plt.legend()\n",
    "plt.grid(True, alpha=0.3)\n"
   ]
  },
  {
   "cell_type": "markdown",
   "metadata": {},
   "source": [
    "### 3_ Trasare plot distributii in axe discriminate \n",
    "Todo: Nu stiu ce inseamna "
   ]
  },
  {
   "cell_type": "code",
   "execution_count": null,
   "metadata": {},
   "outputs": [],
   "source": []
  },
  {
   "cell_type": "markdown",
   "metadata": {},
   "source": [
    "### 4_ Predictia in setul de testare model liniar\n",
    "- Modelul de testare este folosit pentru a evalua cat de bine se descurca modelul in a face preziceri\n",
    "- In modelul de testare se pot calcula metrice cu acuratete pentru ca stim deja valoarea variabilei care se incearca a fi prezisa\n",
    "- Setul de date folosit este cel pe care modelul este antrenat"
   ]
  },
  {
   "cell_type": "code",
   "execution_count": 43,
   "metadata": {},
   "outputs": [
    {
     "data": {
      "text/plain": [
       "array(['setosa', 'setosa', 'setosa', 'setosa', 'setosa', 'setosa',\n",
       "       'setosa', 'setosa', 'setosa', 'setosa', 'setosa', 'setosa',\n",
       "       'setosa', 'setosa', 'setosa', 'setosa', 'setosa', 'setosa',\n",
       "       'setosa', 'setosa', 'setosa', 'setosa', 'setosa', 'setosa',\n",
       "       'setosa', 'setosa', 'setosa', 'setosa', 'setosa', 'setosa',\n",
       "       'setosa', 'setosa', 'setosa', 'setosa', 'setosa', 'setosa',\n",
       "       'setosa', 'setosa', 'setosa', 'setosa', 'setosa', 'setosa',\n",
       "       'setosa', 'setosa', 'setosa', 'setosa', 'setosa', 'setosa',\n",
       "       'setosa', 'setosa', 'versicolor', 'versicolor', 'versicolor',\n",
       "       'versicolor', 'versicolor', 'versicolor', 'versicolor',\n",
       "       'versicolor', 'versicolor', 'versicolor', 'versicolor',\n",
       "       'versicolor', 'versicolor', 'versicolor', 'versicolor',\n",
       "       'versicolor', 'versicolor', 'versicolor', 'versicolor',\n",
       "       'versicolor', 'virginica', 'versicolor', 'versicolor',\n",
       "       'versicolor', 'versicolor', 'versicolor', 'versicolor',\n",
       "       'versicolor', 'versicolor', 'versicolor', 'versicolor',\n",
       "       'versicolor', 'versicolor', 'virginica', 'versicolor',\n",
       "       'versicolor', 'versicolor', 'versicolor', 'versicolor',\n",
       "       'versicolor', 'versicolor', 'versicolor', 'versicolor',\n",
       "       'versicolor', 'versicolor', 'versicolor', 'versicolor',\n",
       "       'versicolor', 'versicolor', 'versicolor', 'virginica', 'virginica',\n",
       "       'virginica', 'virginica', 'virginica', 'virginica', 'virginica',\n",
       "       'virginica', 'virginica', 'virginica', 'virginica', 'virginica',\n",
       "       'virginica', 'virginica', 'virginica', 'virginica', 'virginica',\n",
       "       'virginica', 'virginica', 'virginica', 'virginica', 'virginica',\n",
       "       'virginica', 'virginica', 'virginica', 'virginica', 'virginica',\n",
       "       'virginica', 'virginica', 'virginica', 'virginica', 'virginica',\n",
       "       'virginica', 'versicolor', 'virginica', 'virginica', 'virginica',\n",
       "       'virginica', 'virginica', 'virginica', 'virginica', 'virginica',\n",
       "       'virginica', 'virginica', 'virginica', 'virginica', 'virginica',\n",
       "       'virginica', 'virginica', 'virginica'], dtype='<U10')"
      ]
     },
     "execution_count": 43,
     "metadata": {},
     "output_type": "execute_result"
    }
   ],
   "source": [
    "df_response_predicted = model.predict(df_predictor)\n",
    "df_response_predicted"
   ]
  },
  {
   "cell_type": "markdown",
   "metadata": {},
   "source": [
    "### 5_ Evaluare model liniar pe setul de testare\n",
    "- Pentru a evalua modelul liniar pe setul de testare avem nevoie de:\n",
    "    - Indicatorii de acuratete\n",
    "    - Matricea de confuzie"
   ]
  },
  {
   "cell_type": "code",
   "execution_count": 54,
   "metadata": {},
   "outputs": [
    {
     "name": "stdout",
     "output_type": "stream",
     "text": [
      "Indicatori de acuratete:\n",
      "1)Score: 0.98\n",
      "2)Classifiation report:\n",
      "               precision    recall  f1-score   support\n",
      "\n",
      "      setosa       1.00      1.00      1.00        50\n",
      "  versicolor       0.98      0.96      0.97        50\n",
      "   virginica       0.96      0.98      0.97        50\n",
      "\n",
      "    accuracy                           0.98       150\n",
      "   macro avg       0.98      0.98      0.98       150\n",
      "weighted avg       0.98      0.98      0.98       150\n",
      "\n",
      "==========================================================\n",
      "Confusion Matrix:\n",
      " [[50  0  0]\n",
      " [ 0 48  2]\n",
      " [ 0  1 49]]\n"
     ]
    }
   ],
   "source": [
    "print(f\"Indicatori de acuratete:\\n1)Score: {model.score(df_predictor, df_response)}\\n2)Classifiation report:\\n {classification_report(df_response, df_response_predicted)}\")\n",
    "print('==========================================================')\n",
    "print(f\"Confusion Matrix:\\n {confusion_matrix(df_response, df_response_predicted)}\")"
   ]
  },
  {
   "cell_type": "markdown",
   "metadata": {},
   "source": [
    "### 6_ Predictia in setul de aplicare \n",
    "- Se face la fel ca in setul de testare doar ca nu se mai pot calcula metrici \n",
    "- Nu am vreun set de aplicare la mana pentru datele pe care le am asa ca o sa dau skip la asta"
   ]
  },
  {
   "cell_type": "markdown",
   "metadata": {},
   "source": [
    "### 7_ Predictia in setul de aplicare model Bayesian\n",
    "- Pentru a construi un model Bayesian ne folosim de QuadraticDiscriminantAnalysis din sklearn \n",
    "- Pasii sunt asemanatori "
   ]
  },
  {
   "cell_type": "code",
   "execution_count": 60,
   "metadata": {},
   "outputs": [
    {
     "data": {
      "text/plain": [
       "array(['setosa', 'setosa', 'setosa', 'setosa', 'setosa', 'setosa',\n",
       "       'setosa', 'setosa', 'setosa', 'setosa', 'setosa', 'setosa',\n",
       "       'setosa', 'setosa', 'setosa', 'setosa', 'setosa', 'setosa',\n",
       "       'setosa', 'setosa', 'setosa', 'setosa', 'setosa', 'setosa',\n",
       "       'setosa', 'setosa', 'setosa', 'setosa', 'setosa', 'setosa',\n",
       "       'setosa', 'setosa', 'setosa', 'setosa', 'setosa', 'setosa',\n",
       "       'setosa', 'setosa', 'setosa', 'setosa', 'setosa', 'setosa',\n",
       "       'setosa', 'setosa', 'setosa', 'setosa', 'setosa', 'setosa',\n",
       "       'setosa', 'setosa', 'versicolor', 'versicolor', 'versicolor',\n",
       "       'versicolor', 'versicolor', 'versicolor', 'versicolor',\n",
       "       'versicolor', 'versicolor', 'versicolor', 'versicolor',\n",
       "       'versicolor', 'versicolor', 'versicolor', 'versicolor',\n",
       "       'versicolor', 'versicolor', 'versicolor', 'versicolor',\n",
       "       'versicolor', 'virginica', 'versicolor', 'versicolor',\n",
       "       'versicolor', 'versicolor', 'versicolor', 'versicolor',\n",
       "       'versicolor', 'versicolor', 'versicolor', 'versicolor',\n",
       "       'versicolor', 'versicolor', 'virginica', 'versicolor',\n",
       "       'versicolor', 'versicolor', 'versicolor', 'versicolor',\n",
       "       'versicolor', 'versicolor', 'versicolor', 'versicolor',\n",
       "       'versicolor', 'versicolor', 'versicolor', 'versicolor',\n",
       "       'versicolor', 'versicolor', 'versicolor', 'virginica', 'virginica',\n",
       "       'virginica', 'virginica', 'virginica', 'virginica', 'virginica',\n",
       "       'virginica', 'virginica', 'virginica', 'virginica', 'virginica',\n",
       "       'virginica', 'virginica', 'virginica', 'virginica', 'virginica',\n",
       "       'virginica', 'virginica', 'virginica', 'virginica', 'virginica',\n",
       "       'virginica', 'virginica', 'virginica', 'virginica', 'virginica',\n",
       "       'virginica', 'virginica', 'virginica', 'virginica', 'virginica',\n",
       "       'virginica', 'versicolor', 'virginica', 'virginica', 'virginica',\n",
       "       'virginica', 'virginica', 'virginica', 'virginica', 'virginica',\n",
       "       'virginica', 'virginica', 'virginica', 'virginica', 'virginica',\n",
       "       'virginica', 'virginica', 'virginica'], dtype=object)"
      ]
     },
     "execution_count": 60,
     "metadata": {},
     "output_type": "execute_result"
    }
   ],
   "source": [
    "qda = QuadraticDiscriminantAnalysis(store_covariance=True)\n",
    "qda.fit(df_predictor, df_response)\n",
    "df_response_predicted_qda = qda.predict(df_predictor)\n",
    "df_response_predicted_qda"
   ]
  },
  {
   "cell_type": "markdown",
   "metadata": {},
   "source": [
    "### 8_ Evaluare model Bayesian pe date de testare"
   ]
  },
  {
   "cell_type": "code",
   "execution_count": 61,
   "metadata": {},
   "outputs": [
    {
     "name": "stdout",
     "output_type": "stream",
     "text": [
      "Indicatori de acuratete:\n",
      "1)Score: 0.98\n",
      "2)Classifiation report:\n",
      "               precision    recall  f1-score   support\n",
      "\n",
      "      setosa       1.00      1.00      1.00        50\n",
      "  versicolor       0.98      0.96      0.97        50\n",
      "   virginica       0.96      0.98      0.97        50\n",
      "\n",
      "    accuracy                           0.98       150\n",
      "   macro avg       0.98      0.98      0.98       150\n",
      "weighted avg       0.98      0.98      0.98       150\n",
      "\n",
      "==========================================================\n",
      "Confusion Matrix:\n",
      " [[50  0  0]\n",
      " [ 0 48  2]\n",
      " [ 0  1 49]]\n"
     ]
    }
   ],
   "source": [
    "print(f\"Indicatori de acuratete:\\n1)Score: {qda.score(df_predictor, df_response)}\\n2)Classifiation report:\\n {classification_report(df_response, df_response_predicted)}\")\n",
    "print('==========================================================')\n",
    "print(f\"Confusion Matrix:\\n {confusion_matrix(df_response, df_response_predicted)}\")"
   ]
  }
 ],
 "metadata": {
  "kernelspec": {
   "display_name": "Python 3",
   "language": "python",
   "name": "python3"
  },
  "language_info": {
   "codemirror_mode": {
    "name": "ipython",
    "version": 3
   },
   "file_extension": ".py",
   "mimetype": "text/x-python",
   "name": "python",
   "nbconvert_exporter": "python",
   "pygments_lexer": "ipython3",
   "version": "3.12.5"
  }
 },
 "nbformat": 4,
 "nbformat_minor": 2
}
