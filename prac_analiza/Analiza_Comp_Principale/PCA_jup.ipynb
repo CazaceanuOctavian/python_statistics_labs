{
 "cells": [
  {
   "cell_type": "code",
   "execution_count": 1,
   "metadata": {},
   "outputs": [
    {
     "name": "stdout",
     "output_type": "stream",
     "text": [
      "Requirement already satisfied: factor_analyzer in /home/tav/Desktop/workspace/dezv_soft/_build/pip_packages/lib/python3.12/site-packages (0.5.1)\n",
      "Requirement already satisfied: pandas in /nix/store/v6qwrli608p7v2qaxn3vhphzq4dw3s8l-python3.12-pandas-2.2.2/lib/python3.12/site-packages (from factor_analyzer) (2.2.2)\n",
      "Requirement already satisfied: scipy in /nix/store/1nznx3yrv1lz0r1z49mwxxqjsfzikdrw-python3.12-scipy-1.14.0/lib/python3.12/site-packages (from factor_analyzer) (1.14.0)\n",
      "Requirement already satisfied: numpy in /nix/store/fvxlmgcjanv8j0qxzxxgxigq1344zn39-python3.12-numpy-1.26.4/lib/python3.12/site-packages (from factor_analyzer) (1.26.4)\n",
      "Requirement already satisfied: scikit-learn in /nix/store/1d6cjhp004crgy316ycwh2dlk25c72p0-python3.12-scikit-learn-1.5.0/lib/python3.12/site-packages (from factor_analyzer) (1.5.0)\n",
      "Requirement already satisfied: python-dateutil>=2.8.2 in /nix/store/22d4sr968zx6l3sl7xrzcq4z18frqb7m-python3.12-python-dateutil-2.9.0.post0/lib/python3.12/site-packages (from pandas->factor_analyzer) (2.9.0.post0)\n",
      "Requirement already satisfied: pytz>=2020.1 in /nix/store/xkc1v16pqb3h8dgiap1ammqxmlhc0wy2-python3.12-pytz-2024.1/lib/python3.12/site-packages (from pandas->factor_analyzer) (2024.1)\n",
      "Requirement already satisfied: tzdata>=2022.7 in /nix/store/ikc9cwzlcmjcqa5xmwma56s9nq2g08v8-python3.12-tzdata-2024.1/lib/python3.12/site-packages (from pandas->factor_analyzer) (2024.1)\n",
      "Requirement already satisfied: joblib>=1.2.0 in /nix/store/86wx638i6ghdsw6sfyprkccinpc5jxw8-python3.12-joblib-1.4.2/lib/python3.12/site-packages (from scikit-learn->factor_analyzer) (1.4.2)\n",
      "Requirement already satisfied: threadpoolctl>=3.1.0 in /nix/store/izivqf4vhwasj98nqp91f04i58wlg04y-python3.12-threadpoolctl-3.4.0/lib/python3.12/site-packages (from scikit-learn->factor_analyzer) (3.4.0)\n",
      "Requirement already satisfied: six>=1.5 in /nix/store/rgfl07w7jjb0mmxgifzyca6g6fh6cq36-python3.12-six-1.16.0/lib/python3.12/site-packages (from python-dateutil>=2.8.2->pandas->factor_analyzer) (1.16.0)\n",
      "Note: you may need to restart the kernel to use updated packages.\n"
     ]
    }
   ],
   "source": [
    "%pip install factor_analyzer"
   ]
  },
  {
   "cell_type": "code",
   "execution_count": 63,
   "metadata": {},
   "outputs": [],
   "source": [
    "import numpy as np\n",
    "import pandas as pd\n",
    "import matplotlib.pyplot as plt\n",
    "import seaborn as sns\n",
    "from sklearn.preprocessing import StandardScaler\n",
    "from sklearn.decomposition import PCA\n",
    "from pandas.api.types import is_numeric_dtype\n",
    "from scipy.stats import pearsonr\n",
    "from factor_analyzer import FactorAnalyzer\n",
    "from matplotlib.patches import Circle"
   ]
  },
  {
   "cell_type": "code",
   "execution_count": 3,
   "metadata": {},
   "outputs": [
    {
     "data": {
      "text/html": [
       "<div>\n",
       "<style scoped>\n",
       "    .dataframe tbody tr th:only-of-type {\n",
       "        vertical-align: middle;\n",
       "    }\n",
       "\n",
       "    .dataframe tbody tr th {\n",
       "        vertical-align: top;\n",
       "    }\n",
       "\n",
       "    .dataframe thead th {\n",
       "        text-align: right;\n",
       "    }\n",
       "</style>\n",
       "<table border=\"1\" class=\"dataframe\">\n",
       "  <thead>\n",
       "    <tr style=\"text-align: right;\">\n",
       "      <th></th>\n",
       "      <th>Country</th>\n",
       "      <th>CountryCode</th>\n",
       "      <th>Continent</th>\n",
       "      <th>C</th>\n",
       "      <th>C_Test</th>\n",
       "      <th>Html</th>\n",
       "      <th>Html_test</th>\n",
       "      <th>Java</th>\n",
       "      <th>Java_test</th>\n",
       "      <th>PHP</th>\n",
       "      <th>PHP_test</th>\n",
       "    </tr>\n",
       "  </thead>\n",
       "  <tbody>\n",
       "    <tr>\n",
       "      <th>0</th>\n",
       "      <td>Aruba</td>\n",
       "      <td>ABW</td>\n",
       "      <td>NaN</td>\n",
       "      <td>1.918226</td>\n",
       "      <td>NaN</td>\n",
       "      <td>4.795565</td>\n",
       "      <td>0.959113</td>\n",
       "      <td>2.877339</td>\n",
       "      <td>0.000000</td>\n",
       "      <td>3.836452</td>\n",
       "      <td>0.000000</td>\n",
       "    </tr>\n",
       "    <tr>\n",
       "      <th>1</th>\n",
       "      <td>Angola</td>\n",
       "      <td>AGO</td>\n",
       "      <td>AF</td>\n",
       "      <td>0.023228</td>\n",
       "      <td>0.003871</td>\n",
       "      <td>0.011614</td>\n",
       "      <td>0.000000</td>\n",
       "      <td>0.023228</td>\n",
       "      <td>0.000000</td>\n",
       "      <td>0.019357</td>\n",
       "      <td>0.000000</td>\n",
       "    </tr>\n",
       "    <tr>\n",
       "      <th>2</th>\n",
       "      <td>Albania</td>\n",
       "      <td>ALB</td>\n",
       "      <td>EU</td>\n",
       "      <td>7.783173</td>\n",
       "      <td>0.241072</td>\n",
       "      <td>NaN</td>\n",
       "      <td>0.551021</td>\n",
       "      <td>6.956642</td>\n",
       "      <td>0.241072</td>\n",
       "      <td>12.397975</td>\n",
       "      <td>0.860970</td>\n",
       "    </tr>\n",
       "    <tr>\n",
       "      <th>3</th>\n",
       "      <td>Andorra</td>\n",
       "      <td>AND</td>\n",
       "      <td>EU</td>\n",
       "      <td>7.229090</td>\n",
       "      <td>0.000000</td>\n",
       "      <td>7.229090</td>\n",
       "      <td>1.445818</td>\n",
       "      <td>10.120726</td>\n",
       "      <td>0.000000</td>\n",
       "      <td>8.674908</td>\n",
       "      <td>1.445818</td>\n",
       "    </tr>\n",
       "    <tr>\n",
       "      <th>4</th>\n",
       "      <td>United Arab Emirates</td>\n",
       "      <td>ARE</td>\n",
       "      <td>AS</td>\n",
       "      <td>7.176023</td>\n",
       "      <td>0.291357</td>\n",
       "      <td>7.996140</td>\n",
       "      <td>0.291357</td>\n",
       "      <td>4.478270</td>\n",
       "      <td>0.140283</td>\n",
       "      <td>7.629246</td>\n",
       "      <td>0.151074</td>\n",
       "    </tr>\n",
       "    <tr>\n",
       "      <th>...</th>\n",
       "      <td>...</td>\n",
       "      <td>...</td>\n",
       "      <td>...</td>\n",
       "      <td>...</td>\n",
       "      <td>...</td>\n",
       "      <td>...</td>\n",
       "      <td>...</td>\n",
       "      <td>...</td>\n",
       "      <td>...</td>\n",
       "      <td>...</td>\n",
       "      <td>...</td>\n",
       "    </tr>\n",
       "    <tr>\n",
       "      <th>185</th>\n",
       "      <td>Vanuatu</td>\n",
       "      <td>VUT</td>\n",
       "      <td>OC</td>\n",
       "      <td>0.739454</td>\n",
       "      <td>0.000000</td>\n",
       "      <td>0.369727</td>\n",
       "      <td>0.000000</td>\n",
       "      <td>0.369727</td>\n",
       "      <td>0.000000</td>\n",
       "      <td>0.739454</td>\n",
       "      <td>0.000000</td>\n",
       "    </tr>\n",
       "    <tr>\n",
       "      <th>186</th>\n",
       "      <td>Samoa</td>\n",
       "      <td>WSM</td>\n",
       "      <td>OC</td>\n",
       "      <td>4.112624</td>\n",
       "      <td>0.000000</td>\n",
       "      <td>2.570390</td>\n",
       "      <td>0.514078</td>\n",
       "      <td>4.626702</td>\n",
       "      <td>0.000000</td>\n",
       "      <td>3.598546</td>\n",
       "      <td>0.514078</td>\n",
       "    </tr>\n",
       "    <tr>\n",
       "      <th>187</th>\n",
       "      <td>Yemen  Rep.</td>\n",
       "      <td>YEM</td>\n",
       "      <td>AS</td>\n",
       "      <td>0.080065</td>\n",
       "      <td>0.000000</td>\n",
       "      <td>0.076426</td>\n",
       "      <td>0.007279</td>\n",
       "      <td>0.043672</td>\n",
       "      <td>0.000000</td>\n",
       "      <td>0.058229</td>\n",
       "      <td>0.003639</td>\n",
       "    </tr>\n",
       "    <tr>\n",
       "      <th>188</th>\n",
       "      <td>South Africa</td>\n",
       "      <td>ZAF</td>\n",
       "      <td>AF</td>\n",
       "      <td>1.109516</td>\n",
       "      <td>0.027283</td>\n",
       "      <td>1.227744</td>\n",
       "      <td>0.023645</td>\n",
       "      <td>0.836685</td>\n",
       "      <td>0.030921</td>\n",
       "      <td>1.113154</td>\n",
       "      <td>0.040015</td>\n",
       "    </tr>\n",
       "    <tr>\n",
       "      <th>189</th>\n",
       "      <td>Zambia</td>\n",
       "      <td>ZMB</td>\n",
       "      <td>AF</td>\n",
       "      <td>0.113654</td>\n",
       "      <td>0.000000</td>\n",
       "      <td>0.131600</td>\n",
       "      <td>0.000000</td>\n",
       "      <td>0.095709</td>\n",
       "      <td>0.000000</td>\n",
       "      <td>0.131600</td>\n",
       "      <td>0.005982</td>\n",
       "    </tr>\n",
       "  </tbody>\n",
       "</table>\n",
       "<p>190 rows × 11 columns</p>\n",
       "</div>"
      ],
      "text/plain": [
       "                  Country CountryCode Continent         C    C_Test      Html  \\\n",
       "0                   Aruba         ABW       NaN  1.918226       NaN  4.795565   \n",
       "1                  Angola         AGO        AF  0.023228  0.003871  0.011614   \n",
       "2                 Albania         ALB        EU  7.783173  0.241072       NaN   \n",
       "3                 Andorra         AND        EU  7.229090  0.000000  7.229090   \n",
       "4    United Arab Emirates         ARE        AS  7.176023  0.291357  7.996140   \n",
       "..                    ...         ...       ...       ...       ...       ...   \n",
       "185               Vanuatu         VUT        OC  0.739454  0.000000  0.369727   \n",
       "186                 Samoa         WSM        OC  4.112624  0.000000  2.570390   \n",
       "187           Yemen  Rep.         YEM        AS  0.080065  0.000000  0.076426   \n",
       "188          South Africa         ZAF        AF  1.109516  0.027283  1.227744   \n",
       "189                Zambia         ZMB        AF  0.113654  0.000000  0.131600   \n",
       "\n",
       "     Html_test       Java  Java_test        PHP  PHP_test  \n",
       "0     0.959113   2.877339   0.000000   3.836452  0.000000  \n",
       "1     0.000000   0.023228   0.000000   0.019357  0.000000  \n",
       "2     0.551021   6.956642   0.241072  12.397975  0.860970  \n",
       "3     1.445818  10.120726   0.000000   8.674908  1.445818  \n",
       "4     0.291357   4.478270   0.140283   7.629246  0.151074  \n",
       "..         ...        ...        ...        ...       ...  \n",
       "185   0.000000   0.369727   0.000000   0.739454  0.000000  \n",
       "186   0.514078   4.626702   0.000000   3.598546  0.514078  \n",
       "187   0.007279   0.043672   0.000000   0.058229  0.003639  \n",
       "188   0.023645   0.836685   0.030921   1.113154  0.040015  \n",
       "189   0.000000   0.095709   0.000000   0.131600  0.005982  \n",
       "\n",
       "[190 rows x 11 columns]"
      ]
     },
     "execution_count": 3,
     "metadata": {},
     "output_type": "execute_result"
    }
   ],
   "source": [
    "df_freelancer = pd.read_csv('input/FreeLancerT.csv') \n",
    "df_freelancer"
   ]
  },
  {
   "cell_type": "markdown",
   "metadata": {},
   "source": [
    "### Inlocuirea datelor lipsa cu media sau modul\n",
    "- Setul de date prezinta valori lipsa pe care vom corecta\n",
    "- Datele numerice se inlocuiesc cu media \n",
    "    - Datele numerice lipsa se marcheaza cu NaN\n",
    "- Pentru ca nu exista medie pentru date non numerice ele se inlocuiesc cu modul\n",
    "    - Datele non numerice lipsa se marcheaza cu NaN\n",
    "- Pentru a inlocui datele lipsa va trebui sa iteram prin fiecare coloana din setul de date\n",
    "    - Daca coloana curenta este de tip numeric atunci inlocuiesc cu media\n",
    "    - Daca coloana curenta este de tip string atunci inlocuiesc cu modul"
   ]
  },
  {
   "cell_type": "code",
   "execution_count": 4,
   "metadata": {},
   "outputs": [
    {
     "name": "stderr",
     "output_type": "stream",
     "text": [
      "/run/user/1000/ipykernel_45994/1543480200.py:6: FutureWarning: A value is trying to be set on a copy of a DataFrame or Series through chained assignment using an inplace method.\n",
      "The behavior will change in pandas 3.0. This inplace method will never work because the intermediate object on which we are setting values always behaves as a copy.\n",
      "\n",
      "For example, when doing 'df[col].method(value, inplace=True)', try using 'df.method({col: value}, inplace=True)' or df[col] = df[col].method(value) instead, to perform the operation inplace on the original object.\n",
      "\n",
      "\n",
      "  df_freelancer[column].fillna(df_freelancer[column].mode(), inplace=True)\n",
      "/run/user/1000/ipykernel_45994/1543480200.py:4: FutureWarning: A value is trying to be set on a copy of a DataFrame or Series through chained assignment using an inplace method.\n",
      "The behavior will change in pandas 3.0. This inplace method will never work because the intermediate object on which we are setting values always behaves as a copy.\n",
      "\n",
      "For example, when doing 'df[col].method(value, inplace=True)', try using 'df.method({col: value}, inplace=True)' or df[col] = df[col].method(value) instead, to perform the operation inplace on the original object.\n",
      "\n",
      "\n",
      "  df_freelancer[column].fillna(df_freelancer[column].mean(), inplace=True)\n"
     ]
    },
    {
     "data": {
      "text/html": [
       "<div>\n",
       "<style scoped>\n",
       "    .dataframe tbody tr th:only-of-type {\n",
       "        vertical-align: middle;\n",
       "    }\n",
       "\n",
       "    .dataframe tbody tr th {\n",
       "        vertical-align: top;\n",
       "    }\n",
       "\n",
       "    .dataframe thead th {\n",
       "        text-align: right;\n",
       "    }\n",
       "</style>\n",
       "<table border=\"1\" class=\"dataframe\">\n",
       "  <thead>\n",
       "    <tr style=\"text-align: right;\">\n",
       "      <th></th>\n",
       "      <th>Country</th>\n",
       "      <th>CountryCode</th>\n",
       "      <th>Continent</th>\n",
       "      <th>C</th>\n",
       "      <th>C_Test</th>\n",
       "      <th>Html</th>\n",
       "      <th>Html_test</th>\n",
       "      <th>Java</th>\n",
       "      <th>Java_test</th>\n",
       "      <th>PHP</th>\n",
       "      <th>PHP_test</th>\n",
       "    </tr>\n",
       "  </thead>\n",
       "  <tbody>\n",
       "    <tr>\n",
       "      <th>0</th>\n",
       "      <td>Aruba</td>\n",
       "      <td>ABW</td>\n",
       "      <td>EU</td>\n",
       "      <td>1.918226</td>\n",
       "      <td>0.140219</td>\n",
       "      <td>4.795565</td>\n",
       "      <td>0.959113</td>\n",
       "      <td>2.877339</td>\n",
       "      <td>0.000000</td>\n",
       "      <td>3.836452</td>\n",
       "      <td>0.000000</td>\n",
       "    </tr>\n",
       "    <tr>\n",
       "      <th>1</th>\n",
       "      <td>Angola</td>\n",
       "      <td>AGO</td>\n",
       "      <td>AF</td>\n",
       "      <td>0.023228</td>\n",
       "      <td>0.003871</td>\n",
       "      <td>0.011614</td>\n",
       "      <td>0.000000</td>\n",
       "      <td>0.023228</td>\n",
       "      <td>0.000000</td>\n",
       "      <td>0.019357</td>\n",
       "      <td>0.000000</td>\n",
       "    </tr>\n",
       "    <tr>\n",
       "      <th>2</th>\n",
       "      <td>Albania</td>\n",
       "      <td>ALB</td>\n",
       "      <td>EU</td>\n",
       "      <td>7.783173</td>\n",
       "      <td>0.241072</td>\n",
       "      <td>4.593976</td>\n",
       "      <td>0.551021</td>\n",
       "      <td>6.956642</td>\n",
       "      <td>0.241072</td>\n",
       "      <td>12.397975</td>\n",
       "      <td>0.860970</td>\n",
       "    </tr>\n",
       "    <tr>\n",
       "      <th>3</th>\n",
       "      <td>Andorra</td>\n",
       "      <td>AND</td>\n",
       "      <td>EU</td>\n",
       "      <td>7.229090</td>\n",
       "      <td>0.000000</td>\n",
       "      <td>7.229090</td>\n",
       "      <td>1.445818</td>\n",
       "      <td>10.120726</td>\n",
       "      <td>0.000000</td>\n",
       "      <td>8.674908</td>\n",
       "      <td>1.445818</td>\n",
       "    </tr>\n",
       "    <tr>\n",
       "      <th>4</th>\n",
       "      <td>United Arab Emirates</td>\n",
       "      <td>ARE</td>\n",
       "      <td>AS</td>\n",
       "      <td>7.176023</td>\n",
       "      <td>0.291357</td>\n",
       "      <td>7.996140</td>\n",
       "      <td>0.291357</td>\n",
       "      <td>4.478270</td>\n",
       "      <td>0.140283</td>\n",
       "      <td>7.629246</td>\n",
       "      <td>0.151074</td>\n",
       "    </tr>\n",
       "    <tr>\n",
       "      <th>...</th>\n",
       "      <td>...</td>\n",
       "      <td>...</td>\n",
       "      <td>...</td>\n",
       "      <td>...</td>\n",
       "      <td>...</td>\n",
       "      <td>...</td>\n",
       "      <td>...</td>\n",
       "      <td>...</td>\n",
       "      <td>...</td>\n",
       "      <td>...</td>\n",
       "      <td>...</td>\n",
       "    </tr>\n",
       "    <tr>\n",
       "      <th>185</th>\n",
       "      <td>Vanuatu</td>\n",
       "      <td>VUT</td>\n",
       "      <td>OC</td>\n",
       "      <td>0.739454</td>\n",
       "      <td>0.000000</td>\n",
       "      <td>0.369727</td>\n",
       "      <td>0.000000</td>\n",
       "      <td>0.369727</td>\n",
       "      <td>0.000000</td>\n",
       "      <td>0.739454</td>\n",
       "      <td>0.000000</td>\n",
       "    </tr>\n",
       "    <tr>\n",
       "      <th>186</th>\n",
       "      <td>Samoa</td>\n",
       "      <td>WSM</td>\n",
       "      <td>OC</td>\n",
       "      <td>4.112624</td>\n",
       "      <td>0.000000</td>\n",
       "      <td>2.570390</td>\n",
       "      <td>0.514078</td>\n",
       "      <td>4.626702</td>\n",
       "      <td>0.000000</td>\n",
       "      <td>3.598546</td>\n",
       "      <td>0.514078</td>\n",
       "    </tr>\n",
       "    <tr>\n",
       "      <th>187</th>\n",
       "      <td>Yemen  Rep.</td>\n",
       "      <td>YEM</td>\n",
       "      <td>AS</td>\n",
       "      <td>0.080065</td>\n",
       "      <td>0.000000</td>\n",
       "      <td>0.076426</td>\n",
       "      <td>0.007279</td>\n",
       "      <td>0.043672</td>\n",
       "      <td>0.000000</td>\n",
       "      <td>0.058229</td>\n",
       "      <td>0.003639</td>\n",
       "    </tr>\n",
       "    <tr>\n",
       "      <th>188</th>\n",
       "      <td>South Africa</td>\n",
       "      <td>ZAF</td>\n",
       "      <td>AF</td>\n",
       "      <td>1.109516</td>\n",
       "      <td>0.027283</td>\n",
       "      <td>1.227744</td>\n",
       "      <td>0.023645</td>\n",
       "      <td>0.836685</td>\n",
       "      <td>0.030921</td>\n",
       "      <td>1.113154</td>\n",
       "      <td>0.040015</td>\n",
       "    </tr>\n",
       "    <tr>\n",
       "      <th>189</th>\n",
       "      <td>Zambia</td>\n",
       "      <td>ZMB</td>\n",
       "      <td>AF</td>\n",
       "      <td>0.113654</td>\n",
       "      <td>0.000000</td>\n",
       "      <td>0.131600</td>\n",
       "      <td>0.000000</td>\n",
       "      <td>0.095709</td>\n",
       "      <td>0.000000</td>\n",
       "      <td>0.131600</td>\n",
       "      <td>0.005982</td>\n",
       "    </tr>\n",
       "  </tbody>\n",
       "</table>\n",
       "<p>190 rows × 11 columns</p>\n",
       "</div>"
      ],
      "text/plain": [
       "                  Country CountryCode Continent         C    C_Test      Html  \\\n",
       "0                   Aruba         ABW        EU  1.918226  0.140219  4.795565   \n",
       "1                  Angola         AGO        AF  0.023228  0.003871  0.011614   \n",
       "2                 Albania         ALB        EU  7.783173  0.241072  4.593976   \n",
       "3                 Andorra         AND        EU  7.229090  0.000000  7.229090   \n",
       "4    United Arab Emirates         ARE        AS  7.176023  0.291357  7.996140   \n",
       "..                    ...         ...       ...       ...       ...       ...   \n",
       "185               Vanuatu         VUT        OC  0.739454  0.000000  0.369727   \n",
       "186                 Samoa         WSM        OC  4.112624  0.000000  2.570390   \n",
       "187           Yemen  Rep.         YEM        AS  0.080065  0.000000  0.076426   \n",
       "188          South Africa         ZAF        AF  1.109516  0.027283  1.227744   \n",
       "189                Zambia         ZMB        AF  0.113654  0.000000  0.131600   \n",
       "\n",
       "     Html_test       Java  Java_test        PHP  PHP_test  \n",
       "0     0.959113   2.877339   0.000000   3.836452  0.000000  \n",
       "1     0.000000   0.023228   0.000000   0.019357  0.000000  \n",
       "2     0.551021   6.956642   0.241072  12.397975  0.860970  \n",
       "3     1.445818  10.120726   0.000000   8.674908  1.445818  \n",
       "4     0.291357   4.478270   0.140283   7.629246  0.151074  \n",
       "..         ...        ...        ...        ...       ...  \n",
       "185   0.000000   0.369727   0.000000   0.739454  0.000000  \n",
       "186   0.514078   4.626702   0.000000   3.598546  0.514078  \n",
       "187   0.007279   0.043672   0.000000   0.058229  0.003639  \n",
       "188   0.023645   0.836685   0.030921   1.113154  0.040015  \n",
       "189   0.000000   0.095709   0.000000   0.131600  0.005982  \n",
       "\n",
       "[190 rows x 11 columns]"
      ]
     },
     "execution_count": 4,
     "metadata": {},
     "output_type": "execute_result"
    }
   ],
   "source": [
    "for column in df_freelancer.columns:\n",
    "    #prima conditie in for determina tipul de date | a doua conditie in for este pentru eficienta\n",
    "    if (is_numeric_dtype(df_freelancer[column])) and df_freelancer[column].isna().any():\n",
    "        df_freelancer[column].fillna(df_freelancer[column].mean(), inplace=True)\n",
    "    else: \n",
    "        df_freelancer[column].fillna(df_freelancer[column].mode(), inplace=True)\n",
    "df_freelancer"
   ]
  },
  {
   "cell_type": "markdown",
   "metadata": {},
   "source": [
    "- Analiza in componente principale se aplica doar pe acele variabile numerice din dataframe\n",
    "- Extragem variabilele numerice si le stergem pe restul"
   ]
  },
  {
   "cell_type": "code",
   "execution_count": 5,
   "metadata": {},
   "outputs": [
    {
     "data": {
      "text/html": [
       "<div>\n",
       "<style scoped>\n",
       "    .dataframe tbody tr th:only-of-type {\n",
       "        vertical-align: middle;\n",
       "    }\n",
       "\n",
       "    .dataframe tbody tr th {\n",
       "        vertical-align: top;\n",
       "    }\n",
       "\n",
       "    .dataframe thead th {\n",
       "        text-align: right;\n",
       "    }\n",
       "</style>\n",
       "<table border=\"1\" class=\"dataframe\">\n",
       "  <thead>\n",
       "    <tr style=\"text-align: right;\">\n",
       "      <th></th>\n",
       "      <th>C</th>\n",
       "      <th>C_Test</th>\n",
       "      <th>Html</th>\n",
       "      <th>Html_test</th>\n",
       "      <th>Java</th>\n",
       "      <th>Java_test</th>\n",
       "      <th>PHP</th>\n",
       "      <th>PHP_test</th>\n",
       "    </tr>\n",
       "  </thead>\n",
       "  <tbody>\n",
       "    <tr>\n",
       "      <th>0</th>\n",
       "      <td>1.918226</td>\n",
       "      <td>0.140219</td>\n",
       "      <td>4.795565</td>\n",
       "      <td>0.959113</td>\n",
       "      <td>2.877339</td>\n",
       "      <td>0.000000</td>\n",
       "      <td>3.836452</td>\n",
       "      <td>0.000000</td>\n",
       "    </tr>\n",
       "    <tr>\n",
       "      <th>1</th>\n",
       "      <td>0.023228</td>\n",
       "      <td>0.003871</td>\n",
       "      <td>0.011614</td>\n",
       "      <td>0.000000</td>\n",
       "      <td>0.023228</td>\n",
       "      <td>0.000000</td>\n",
       "      <td>0.019357</td>\n",
       "      <td>0.000000</td>\n",
       "    </tr>\n",
       "    <tr>\n",
       "      <th>2</th>\n",
       "      <td>7.783173</td>\n",
       "      <td>0.241072</td>\n",
       "      <td>4.593976</td>\n",
       "      <td>0.551021</td>\n",
       "      <td>6.956642</td>\n",
       "      <td>0.241072</td>\n",
       "      <td>12.397975</td>\n",
       "      <td>0.860970</td>\n",
       "    </tr>\n",
       "    <tr>\n",
       "      <th>3</th>\n",
       "      <td>7.229090</td>\n",
       "      <td>0.000000</td>\n",
       "      <td>7.229090</td>\n",
       "      <td>1.445818</td>\n",
       "      <td>10.120726</td>\n",
       "      <td>0.000000</td>\n",
       "      <td>8.674908</td>\n",
       "      <td>1.445818</td>\n",
       "    </tr>\n",
       "    <tr>\n",
       "      <th>4</th>\n",
       "      <td>7.176023</td>\n",
       "      <td>0.291357</td>\n",
       "      <td>7.996140</td>\n",
       "      <td>0.291357</td>\n",
       "      <td>4.478270</td>\n",
       "      <td>0.140283</td>\n",
       "      <td>7.629246</td>\n",
       "      <td>0.151074</td>\n",
       "    </tr>\n",
       "    <tr>\n",
       "      <th>...</th>\n",
       "      <td>...</td>\n",
       "      <td>...</td>\n",
       "      <td>...</td>\n",
       "      <td>...</td>\n",
       "      <td>...</td>\n",
       "      <td>...</td>\n",
       "      <td>...</td>\n",
       "      <td>...</td>\n",
       "    </tr>\n",
       "    <tr>\n",
       "      <th>185</th>\n",
       "      <td>0.739454</td>\n",
       "      <td>0.000000</td>\n",
       "      <td>0.369727</td>\n",
       "      <td>0.000000</td>\n",
       "      <td>0.369727</td>\n",
       "      <td>0.000000</td>\n",
       "      <td>0.739454</td>\n",
       "      <td>0.000000</td>\n",
       "    </tr>\n",
       "    <tr>\n",
       "      <th>186</th>\n",
       "      <td>4.112624</td>\n",
       "      <td>0.000000</td>\n",
       "      <td>2.570390</td>\n",
       "      <td>0.514078</td>\n",
       "      <td>4.626702</td>\n",
       "      <td>0.000000</td>\n",
       "      <td>3.598546</td>\n",
       "      <td>0.514078</td>\n",
       "    </tr>\n",
       "    <tr>\n",
       "      <th>187</th>\n",
       "      <td>0.080065</td>\n",
       "      <td>0.000000</td>\n",
       "      <td>0.076426</td>\n",
       "      <td>0.007279</td>\n",
       "      <td>0.043672</td>\n",
       "      <td>0.000000</td>\n",
       "      <td>0.058229</td>\n",
       "      <td>0.003639</td>\n",
       "    </tr>\n",
       "    <tr>\n",
       "      <th>188</th>\n",
       "      <td>1.109516</td>\n",
       "      <td>0.027283</td>\n",
       "      <td>1.227744</td>\n",
       "      <td>0.023645</td>\n",
       "      <td>0.836685</td>\n",
       "      <td>0.030921</td>\n",
       "      <td>1.113154</td>\n",
       "      <td>0.040015</td>\n",
       "    </tr>\n",
       "    <tr>\n",
       "      <th>189</th>\n",
       "      <td>0.113654</td>\n",
       "      <td>0.000000</td>\n",
       "      <td>0.131600</td>\n",
       "      <td>0.000000</td>\n",
       "      <td>0.095709</td>\n",
       "      <td>0.000000</td>\n",
       "      <td>0.131600</td>\n",
       "      <td>0.005982</td>\n",
       "    </tr>\n",
       "  </tbody>\n",
       "</table>\n",
       "<p>190 rows × 8 columns</p>\n",
       "</div>"
      ],
      "text/plain": [
       "            C    C_Test      Html  Html_test       Java  Java_test        PHP  \\\n",
       "0    1.918226  0.140219  4.795565   0.959113   2.877339   0.000000   3.836452   \n",
       "1    0.023228  0.003871  0.011614   0.000000   0.023228   0.000000   0.019357   \n",
       "2    7.783173  0.241072  4.593976   0.551021   6.956642   0.241072  12.397975   \n",
       "3    7.229090  0.000000  7.229090   1.445818  10.120726   0.000000   8.674908   \n",
       "4    7.176023  0.291357  7.996140   0.291357   4.478270   0.140283   7.629246   \n",
       "..        ...       ...       ...        ...        ...        ...        ...   \n",
       "185  0.739454  0.000000  0.369727   0.000000   0.369727   0.000000   0.739454   \n",
       "186  4.112624  0.000000  2.570390   0.514078   4.626702   0.000000   3.598546   \n",
       "187  0.080065  0.000000  0.076426   0.007279   0.043672   0.000000   0.058229   \n",
       "188  1.109516  0.027283  1.227744   0.023645   0.836685   0.030921   1.113154   \n",
       "189  0.113654  0.000000  0.131600   0.000000   0.095709   0.000000   0.131600   \n",
       "\n",
       "     PHP_test  \n",
       "0    0.000000  \n",
       "1    0.000000  \n",
       "2    0.860970  \n",
       "3    1.445818  \n",
       "4    0.151074  \n",
       "..        ...  \n",
       "185  0.000000  \n",
       "186  0.514078  \n",
       "187  0.003639  \n",
       "188  0.040015  \n",
       "189  0.005982  \n",
       "\n",
       "[190 rows x 8 columns]"
      ]
     },
     "execution_count": 5,
     "metadata": {},
     "output_type": "execute_result"
    }
   ],
   "source": [
    "df_freelancer_numerical = df_freelancer.iloc[:, 3:]\n",
    "df_freelancer_numerical"
   ]
  },
  {
   "cell_type": "markdown",
   "metadata": {},
   "source": [
    "### 1_ Varianta pe componente\n",
    "- Pentru a calcula varianta pe componente folosim din sklearn StandardScaler si PCA\n",
    "    - StandardScaler este folosit pentru a standardiza datele \n",
    "    - PCA este folosit pentru a calcula variantele pe datele standardizate"
   ]
  },
  {
   "cell_type": "code",
   "execution_count": 6,
   "metadata": {},
   "outputs": [],
   "source": [
    "#Se standardizeaza datele folosind StandardScaler\n",
    "scaler = StandardScaler()\n",
    "scaled_data = scaler.fit_transform(df_freelancer_numerical)\n",
    "\n",
    "#Se creaza modelul PCA si i se introduc datele\n",
    "pca = PCA()\n",
    "pca.fit(scaled_data)\n",
    "\n",
    "#Se calculeaza varianta pe componente provenita din PCA\n",
    "variance_ratio = pca.explained_variance_ratio_\n",
    "#Optional --> Calculeaza varianta cumulativa\n",
    "cumulative_variance = np.cumsum(variance_ratio)"
   ]
  },
  {
   "cell_type": "code",
   "execution_count": 7,
   "metadata": {},
   "outputs": [
    {
     "data": {
      "text/plain": [
       "array([6.59781658e-01, 2.35728127e-01, 4.90572825e-02, 3.56152317e-02,\n",
       "       1.16125362e-02, 4.98159589e-03, 2.59393907e-03, 6.29629865e-04])"
      ]
     },
     "execution_count": 7,
     "metadata": {},
     "output_type": "execute_result"
    }
   ],
   "source": [
    "variance_ratio"
   ]
  },
  {
   "cell_type": "code",
   "execution_count": 8,
   "metadata": {},
   "outputs": [
    {
     "data": {
      "text/plain": [
       "array([0.65978166, 0.89550978, 0.94456707, 0.9801823 , 0.99179484,\n",
       "       0.99677643, 0.99937037, 1.        ])"
      ]
     },
     "execution_count": 8,
     "metadata": {},
     "output_type": "execute_result"
    }
   ],
   "source": [
    "cumulative_variance"
   ]
  },
  {
   "cell_type": "code",
   "execution_count": 9,
   "metadata": {},
   "outputs": [
    {
     "name": "stdout",
     "output_type": "stream",
     "text": [
      "PC1 Variance Explained: 0.6598 (65.98%)\n",
      "Cumulative Variance: 0.6598 (65.98%)\n",
      "=======================================\n",
      "PC2 Variance Explained: 0.2357 (23.57%)\n",
      "Cumulative Variance: 0.8955 (89.55%)\n",
      "=======================================\n",
      "PC3 Variance Explained: 0.0491 (4.91%)\n",
      "Cumulative Variance: 0.9446 (94.46%)\n",
      "=======================================\n",
      "PC4 Variance Explained: 0.0356 (3.56%)\n",
      "Cumulative Variance: 0.9802 (98.02%)\n",
      "=======================================\n",
      "PC5 Variance Explained: 0.0116 (1.16%)\n",
      "Cumulative Variance: 0.9918 (99.18%)\n",
      "=======================================\n",
      "PC6 Variance Explained: 0.0050 (0.50%)\n",
      "Cumulative Variance: 0.9968 (99.68%)\n",
      "=======================================\n",
      "PC7 Variance Explained: 0.0026 (0.26%)\n",
      "Cumulative Variance: 0.9994 (99.94%)\n",
      "=======================================\n",
      "PC8 Variance Explained: 0.0006 (0.06%)\n",
      "Cumulative Variance: 1.0000 (100.00%)\n",
      "=======================================\n"
     ]
    }
   ],
   "source": [
    "for i, var in enumerate(variance_ratio):\n",
    "    print(f\"PC{i+1} Variance Explained: {var:.4f} ({var*100:.2f}%)\")\n",
    "    print(f\"Cumulative Variance: {cumulative_variance[i]:.4f} ({cumulative_variance[i]*100:.2f}%)\")\n",
    "    print(\"=======================================\")"
   ]
  },
  {
   "cell_type": "markdown",
   "metadata": {},
   "source": [
    "### 2_ Plot varianta componente cu evidentierea criteriilor de relevanta\n",
    "- Pentru a crea plot-ul ne folosim de matplotlib"
   ]
  },
  {
   "cell_type": "markdown",
   "metadata": {},
   "source": [
    "In functia plot():\n",
    "- Primul parametru range(1, len(variance_ratio) + 1) reprezinta valorile de pe axa X\n",
    "    - Valorile de pe axa X sunt o serie care reprezinta index-ul fiecarei valori din variance_ration\n",
    "- Al doilea parametru reprezinta valorile propriu-zise ale variantei\n",
    "    - Sunt valorile efective ale array-ului variance_ratio\n",
    "- Al treilea parametru \"bo-\" tine de cum arata valorile \n",
    "    - \"b\" --> Inseamna ca avem culoare albastra\n",
    "    - \"o\" --> Inseamna ca avem puncte \n",
    "    - \"-\" --> Inseamna ca punctele trebuiesc conectate cu linii"
   ]
  },
  {
   "cell_type": "code",
   "execution_count": 10,
   "metadata": {},
   "outputs": [
    {
     "data": {
      "image/png": "[encoded data removed]",
      "text/plain": [
       "<Figure size 640x480 with 1 Axes>"
      ]
     },
     "metadata": {},
     "output_type": "display_data"
    }
   ],
   "source": [
    "#Grafic doar cu variance_ratio\n",
    "plt.plot(range(1, len(variance_ratio) + 1),\n",
    "         variance_ratio, 'bo-')\n",
    "plt.show()"
   ]
  },
  {
   "cell_type": "code",
   "execution_count": 11,
   "metadata": {},
   "outputs": [
    {
     "data": {
      "image/png": "[encoded data removed]",
      "text/plain": [
       "<Figure size 640x480 with 1 Axes>"
      ]
     },
     "metadata": {},
     "output_type": "display_data"
    }
   ],
   "source": [
    "#Grafic cu varianta cumulativa\n",
    "plt.plot(range(1, len(cumulative_variance) + 1),\n",
    "         cumulative_variance, 'ro-')\n",
    "plt.show()"
   ]
  },
  {
   "cell_type": "markdown",
   "metadata": {},
   "source": [
    "#### Grafic cu ambele componente descrise"
   ]
  },
  {
   "cell_type": "code",
   "execution_count": 12,
   "metadata": {},
   "outputs": [
    {
     "data": {
      "image/png": "[encoded data removed]",
      "text/plain": [
       "<Figure size 640x480 with 1 Axes>"
      ]
     },
     "metadata": {},
     "output_type": "display_data"
    }
   ],
   "source": [
    "plt.plot(range(1, len(pca.explained_variance_ratio_) + 1),\n",
    "         pca.explained_variance_ratio_, 'bo-')\n",
    "plt.plot(range(1, len(pca.explained_variance_ratio_) + 1),\n",
    "         np.cumsum(pca.explained_variance_ratio_), 'ro-')\n",
    "plt.xlabel('Principal Components')\n",
    "plt.ylabel('Explained Variance Ratio')\n",
    "plt.show()"
   ]
  },
  {
   "cell_type": "markdown",
   "metadata": {},
   "source": [
    "### 3_ Calcul corelatii factoriale \n",
    "- Calculul se realizeaza folosind libraria factor_analyzer\n",
    "- Se da ca si valoare la n_factors numarul de componente principale ?\n",
    "- Se folosesc datele standardizate "
   ]
  },
  {
   "cell_type": "code",
   "execution_count": 48,
   "metadata": {},
   "outputs": [],
   "source": [
    "fa = FactorAnalyzer(\n",
    "    rotation='varimax',\n",
    "    n_factors=7,  # Specify the number of factors you want to extract\n",
    "    impute='mean'  # Handle missing values by replacing with mean\n",
    ")\n",
    "\n",
    "fa.fit(scaled_data)\n",
    "\n",
    "factor_correlations = fa.loadings_"
   ]
  },
  {
   "cell_type": "code",
   "execution_count": 49,
   "metadata": {},
   "outputs": [
    {
     "data": {
      "text/plain": [
       "array([[ 9.38632029e-01,  2.72058560e-01,  7.76320086e-02,\n",
       "         5.39586715e-02,  1.08262127e-01,  3.36889699e-04,\n",
       "         7.50286995e-02],\n",
       "       [ 5.84187738e-02,  3.85178313e-01,  3.38765075e-01,\n",
       "         8.53403869e-01,  1.26474210e-02, -2.30392014e-03,\n",
       "         2.45691804e-04],\n",
       "       [ 3.60402259e-01,  7.83626838e-01,  3.18616697e-01,\n",
       "         3.64453530e-01, -9.20220682e-04,  1.29246245e-01,\n",
       "         5.52007738e-04],\n",
       "       [ 9.83172400e-01,  1.25999795e-01,  5.83795991e-02,\n",
       "         4.61238752e-02, -4.95393873e-02,  5.43830500e-02,\n",
       "        -4.01624551e-02],\n",
       "       [ 7.95754519e-01,  4.48549144e-01,  2.35214252e-01,\n",
       "         1.04511964e-01,  3.06218773e-01, -4.49260344e-03,\n",
       "         4.22698920e-03],\n",
       "       [ 6.12215721e-02,  3.01521317e-01,  8.70719529e-01,\n",
       "         2.87864945e-01,  2.19716946e-02,  5.53083042e-04,\n",
       "         1.05041305e-03],\n",
       "       [ 3.66132262e-01,  8.10065080e-01,  2.94717536e-01,\n",
       "         3.20624983e-01,  4.78986797e-02, -1.13110679e-01,\n",
       "         3.74800120e-03],\n",
       "       [ 9.66799454e-01,  2.01556394e-01,  1.25934092e-02,\n",
       "         1.01524753e-01, -7.67728778e-02, -5.33763040e-02,\n",
       "        -2.31750934e-02]])"
      ]
     },
     "execution_count": 49,
     "metadata": {},
     "output_type": "execute_result"
    }
   ],
   "source": [
    "fa.loadings_"
   ]
  },
  {
   "cell_type": "markdown",
   "metadata": {},
   "source": [
    "### 4_ Trasare corelograma pentru corelatii factoriale \n",
    "- Se foloseste heatmap din libraria Seaborn \n",
    "- Principalul parametru pe care heatmap-ul il primeste este fa.loadings_ calculat la (3)\n",
    "- I se specifica proprietati vizuale \n",
    "    - Important sa se seteze vmin si vmax la 1"
   ]
  },
  {
   "cell_type": "code",
   "execution_count": 61,
   "metadata": {},
   "outputs": [
    {
     "data": {
      "image/png": "[encoded data removed]",
      "text/plain": [
       "<Figure size 640x480 with 2 Axes>"
      ]
     },
     "metadata": {},
     "output_type": "display_data"
    }
   ],
   "source": [
    "# Generăm heatmap-ul folosind seaborn\n",
    "heatmap = sns.heatmap(\n",
    "    fa.loadings_,\n",
    "    annot=True,           # Afișează valorile numerice\n",
    "    cmap='RdBu_r',       # Schema de culori (roșu-albastru)\n",
    "    vmin=-1,            # Valoarea minimă pentru scală\n",
    "    vmax=1,             # Valoarea maximă pentru scală\n",
    "    fmt='.2f',          # Formatul numerelor (2 zecimale)\n",
    "    cbar_kws={'label': 'Factor Loading'}  # Eticheta barei de culori\n",
    ")"
   ]
  },
  {
   "cell_type": "markdown",
   "metadata": {},
   "source": [
    "### 5_ Trasare cercul corelatiilor\n",
    "- Cercul corelatiilor se face cu matplotlib\n",
    "- Se foloseste tot setul de date normalizat pe care s-a aplicat procedura de la puctul (3) pentru a obtine fa.loadings_"
   ]
  },
  {
   "cell_type": "code",
   "execution_count": 76,
   "metadata": {},
   "outputs": [],
   "source": [
    "#pentru manipulare mai usoara am pus loadings intr-un dataframe\n",
    "loadings = pd.DataFrame(\n",
    "    fa.loadings_,\n",
    "    columns=[f'Factor {i+1}' for i in range(7)],\n",
    ")"
   ]
  },
  {
   "cell_type": "code",
   "execution_count": 77,
   "metadata": {},
   "outputs": [
    {
     "data": {
      "text/html": [
       "<div>\n",
       "<style scoped>\n",
       "    .dataframe tbody tr th:only-of-type {\n",
       "        vertical-align: middle;\n",
       "    }\n",
       "\n",
       "    .dataframe tbody tr th {\n",
       "        vertical-align: top;\n",
       "    }\n",
       "\n",
       "    .dataframe thead th {\n",
       "        text-align: right;\n",
       "    }\n",
       "</style>\n",
       "<table border=\"1\" class=\"dataframe\">\n",
       "  <thead>\n",
       "    <tr style=\"text-align: right;\">\n",
       "      <th></th>\n",
       "      <th>Factor 1</th>\n",
       "      <th>Factor 2</th>\n",
       "      <th>Factor 3</th>\n",
       "      <th>Factor 4</th>\n",
       "      <th>Factor 5</th>\n",
       "      <th>Factor 6</th>\n",
       "      <th>Factor 7</th>\n",
       "    </tr>\n",
       "  </thead>\n",
       "  <tbody>\n",
       "    <tr>\n",
       "      <th>0</th>\n",
       "      <td>0.938632</td>\n",
       "      <td>0.272059</td>\n",
       "      <td>0.077632</td>\n",
       "      <td>0.053959</td>\n",
       "      <td>0.108262</td>\n",
       "      <td>0.000337</td>\n",
       "      <td>0.075029</td>\n",
       "    </tr>\n",
       "    <tr>\n",
       "      <th>1</th>\n",
       "      <td>0.058419</td>\n",
       "      <td>0.385178</td>\n",
       "      <td>0.338765</td>\n",
       "      <td>0.853404</td>\n",
       "      <td>0.012647</td>\n",
       "      <td>-0.002304</td>\n",
       "      <td>0.000246</td>\n",
       "    </tr>\n",
       "    <tr>\n",
       "      <th>2</th>\n",
       "      <td>0.360402</td>\n",
       "      <td>0.783627</td>\n",
       "      <td>0.318617</td>\n",
       "      <td>0.364454</td>\n",
       "      <td>-0.000920</td>\n",
       "      <td>0.129246</td>\n",
       "      <td>0.000552</td>\n",
       "    </tr>\n",
       "    <tr>\n",
       "      <th>3</th>\n",
       "      <td>0.983172</td>\n",
       "      <td>0.126000</td>\n",
       "      <td>0.058380</td>\n",
       "      <td>0.046124</td>\n",
       "      <td>-0.049539</td>\n",
       "      <td>0.054383</td>\n",
       "      <td>-0.040162</td>\n",
       "    </tr>\n",
       "    <tr>\n",
       "      <th>4</th>\n",
       "      <td>0.795755</td>\n",
       "      <td>0.448549</td>\n",
       "      <td>0.235214</td>\n",
       "      <td>0.104512</td>\n",
       "      <td>0.306219</td>\n",
       "      <td>-0.004493</td>\n",
       "      <td>0.004227</td>\n",
       "    </tr>\n",
       "    <tr>\n",
       "      <th>5</th>\n",
       "      <td>0.061222</td>\n",
       "      <td>0.301521</td>\n",
       "      <td>0.870720</td>\n",
       "      <td>0.287865</td>\n",
       "      <td>0.021972</td>\n",
       "      <td>0.000553</td>\n",
       "      <td>0.001050</td>\n",
       "    </tr>\n",
       "    <tr>\n",
       "      <th>6</th>\n",
       "      <td>0.366132</td>\n",
       "      <td>0.810065</td>\n",
       "      <td>0.294718</td>\n",
       "      <td>0.320625</td>\n",
       "      <td>0.047899</td>\n",
       "      <td>-0.113111</td>\n",
       "      <td>0.003748</td>\n",
       "    </tr>\n",
       "    <tr>\n",
       "      <th>7</th>\n",
       "      <td>0.966799</td>\n",
       "      <td>0.201556</td>\n",
       "      <td>0.012593</td>\n",
       "      <td>0.101525</td>\n",
       "      <td>-0.076773</td>\n",
       "      <td>-0.053376</td>\n",
       "      <td>-0.023175</td>\n",
       "    </tr>\n",
       "  </tbody>\n",
       "</table>\n",
       "</div>"
      ],
      "text/plain": [
       "   Factor 1  Factor 2  Factor 3  Factor 4  Factor 5  Factor 6  Factor 7\n",
       "0  0.938632  0.272059  0.077632  0.053959  0.108262  0.000337  0.075029\n",
       "1  0.058419  0.385178  0.338765  0.853404  0.012647 -0.002304  0.000246\n",
       "2  0.360402  0.783627  0.318617  0.364454 -0.000920  0.129246  0.000552\n",
       "3  0.983172  0.126000  0.058380  0.046124 -0.049539  0.054383 -0.040162\n",
       "4  0.795755  0.448549  0.235214  0.104512  0.306219 -0.004493  0.004227\n",
       "5  0.061222  0.301521  0.870720  0.287865  0.021972  0.000553  0.001050\n",
       "6  0.366132  0.810065  0.294718  0.320625  0.047899 -0.113111  0.003748\n",
       "7  0.966799  0.201556  0.012593  0.101525 -0.076773 -0.053376 -0.023175"
      ]
     },
     "execution_count": 77,
     "metadata": {},
     "output_type": "execute_result"
    }
   ],
   "source": [
    "loadings"
   ]
  },
  {
   "cell_type": "markdown",
   "metadata": {},
   "source": [
    "!! Cerul corelatiilor intre Factor 1 si Factor 2\n",
    "TODO --> Vezi cum poti sa pui text pe buline..."
   ]
  },
  {
   "cell_type": "code",
   "execution_count": 95,
   "metadata": {},
   "outputs": [
    {
     "data": {
      "text/plain": [
       "<matplotlib.lines.Line2D at 0x7f73ffc95730>"
      ]
     },
     "execution_count": 95,
     "metadata": {},
     "output_type": "execute_result"
    },
    {
     "data": {
      "image/png": "[encoded data removed]",
      "text/plain": [
       "<Figure size 800x800 with 1 Axes>"
      ]
     },
     "metadata": {},
     "output_type": "display_data"
    }
   ],
   "source": [
    "fig, ax = plt.subplots(figsize=(8,8))\n",
    "circle = Circle((0,0), 1, fill=False, color ='blue', linestyle=\"--\")\n",
    "ax.add_patch(circle)\n",
    "ax.set_xlim(-1.2, 1.2)\n",
    "ax.set_ylim(-1.2, 1.2)\n",
    "\n",
    "ax.scatter(loadings.iloc[:, 1], loadings.iloc[:, 2], c='r')\n",
    "ax.axhline(0) #linie orizontala care trece prin (0,0)\n",
    "ax.axvline(0) #linie verticala care trece prin (0,0)\n",
    "# for i, (x, y) in enumerate(zip(loadings['Factor 1'], loadings['Factor 2'])):\n",
    "#     ax.arrow(0, 0, x, y, head_width=0.05, head_length=0.05, fc='blue', ec='blue', alpha=0.5)\n"
   ]
  },
  {
   "cell_type": "markdown",
   "metadata": {},
   "source": [
    "### 6_ Calculare componente/scoruri\n"
   ]
  },
  {
   "cell_type": "code",
   "execution_count": 102,
   "metadata": {},
   "outputs": [],
   "source": [
    "components = pca.components_\n",
    "scores = pca.transform(scaled_data)"
   ]
  },
  {
   "cell_type": "markdown",
   "metadata": {},
   "source": [
    "### 7_ Plot componente/scoruri"
   ]
  },
  {
   "cell_type": "code",
   "execution_count": null,
   "metadata": {},
   "outputs": [],
   "source": []
  },
  {
   "cell_type": "markdown",
   "metadata": {},
   "source": [
    "### 8_ Calcul cosinus \n",
    "- Se creaza o matrice care are forma la pca.components_\n",
    "- Iteram prim matricea goala iar pentru fiecare element i,j cosinusurile au formula:\n",
    "    - loadings[i,j] * sqrt(pca.explained_varience_[i])\n",
    "        - Loadings[i,j] reprezinta eigenvectors\n",
    "        - pca.explained_variance[i] reprezinta eigenvalue"
   ]
  },
  {
   "cell_type": "code",
   "execution_count": 107,
   "metadata": {},
   "outputs": [
    {
     "data": {
      "text/plain": [
       "(8, 8)"
      ]
     },
     "execution_count": 107,
     "metadata": {},
     "output_type": "execute_result"
    }
   ],
   "source": [
    "pca_restul = pca.fit_transform(scaled_data)\n",
    "loadings = pca.components_\n",
    "loadings.shape"
   ]
  },
  {
   "cell_type": "code",
   "execution_count": 109,
   "metadata": {},
   "outputs": [],
   "source": [
    "cos_values = np.zeros((loadings.shape[0], loadings.shape[1]))\n",
    "for i in range(loadings.shape[0]):\n",
    "    for j in range(loadings.shape[1]):\n",
    "        #loadings[i,j] --> Eigenvectors\n",
    "        #pca.explained_varience_[i] --> EigenValues\n",
    "        #cos_values = eigenvectors * sqrt(eigenvalues)\n",
    "        cos_values[i,j] = loadings[i,j] * np.sqrt(pca.explained_variance_[i])"
   ]
  },
  {
   "cell_type": "code",
   "execution_count": 110,
   "metadata": {},
   "outputs": [
    {
     "data": {
      "text/plain": [
       "array([[ 8.90284767e-01,  5.94856858e-01,  8.77645391e-01,\n",
       "         8.26712807e-01,  9.47398723e-01,  5.53771392e-01,\n",
       "         8.78503299e-01,  8.54405197e-01],\n",
       "       [-4.37844948e-01,  6.75889496e-01,  3.84532017e-01,\n",
       "        -5.29047947e-01, -1.79312687e-01,  6.50011374e-01,\n",
       "         3.57151280e-01, -4.87120779e-01],\n",
       "       [ 3.79525301e-02, -1.87780632e-01, -1.82624087e-01,\n",
       "         8.95733244e-02,  5.25930546e-02,  5.23814122e-01,\n",
       "        -1.98260315e-01, -1.85592980e-03],\n",
       "       [ 5.99710915e-03,  3.91304914e-01, -1.58767588e-01,\n",
       "         1.40352950e-01, -1.42056067e-01, -8.40866038e-03,\n",
       "        -2.21015380e-01,  1.38814075e-01],\n",
       "       [ 7.14611963e-02,  7.88430171e-02, -1.06467817e-01,\n",
       "        -9.01618427e-02,  2.19283470e-01, -3.79690103e-02,\n",
       "        -4.48210009e-02, -1.05207127e-01],\n",
       "       [ 6.51700058e-03, -1.78084540e-03,  1.30142237e-01,\n",
       "         4.72025112e-02,  1.94425874e-02, -1.27012210e-02,\n",
       "        -1.23349395e-01, -7.14037705e-02],\n",
       "       [ 1.19734273e-01,  6.86235051e-04,  6.17656127e-03,\n",
       "        -4.26170907e-02, -6.38821356e-02,  7.03026903e-03,\n",
       "        -8.27676213e-04, -2.32193565e-02],\n",
       "       [ 3.74312199e-03,  2.95763605e-03, -1.71886134e-02,\n",
       "         4.52706012e-02, -9.13718394e-03, -3.02207580e-03,\n",
       "         2.42134365e-02, -4.49126263e-02]])"
      ]
     },
     "execution_count": 110,
     "metadata": {},
     "output_type": "execute_result"
    }
   ],
   "source": [
    "cos_values"
   ]
  },
  {
   "cell_type": "markdown",
   "metadata": {},
   "source": [
    "### 9_ Calcul contributii\n",
    "- Calculul contributiilor se bazeaza pe loadings la patrat\n",
    "- Se creaza un array cu valori de 0 care are aceeasi forma ca si loadings \n",
    "- pentru fiecare element din squared_loadings se aplica formula:\n",
    "    - Element_curent = (element_curent/suma_elemente_linie) * 100"
   ]
  },
  {
   "cell_type": "code",
   "execution_count": 116,
   "metadata": {},
   "outputs": [
    {
     "data": {
      "text/plain": [
       "(8, 8)"
      ]
     },
     "execution_count": 116,
     "metadata": {},
     "output_type": "execute_result"
    }
   ],
   "source": [
    "loadings = pca.components_\n",
    "#squared_loadings = correlations\n",
    "squared_loadings = loadings ** 2\n",
    "squared_loadings.shape"
   ]
  },
  {
   "cell_type": "code",
   "execution_count": 117,
   "metadata": {},
   "outputs": [],
   "source": [
    "#np.zeros_like creaza un array gol care este de acelasi tip si are acelasi shape ca si array-ul dat ca input --> squared_loadings\n",
    "#array-ul creat e gol\n",
    "variable_contributions = np.zeros_like(squared_loadings)\n",
    "\n",
    "#iteram pe linii \n",
    "#pentru fiecare linie se aplica formula\n",
    "for i in range(squared_loadings.shape[0]):\n",
    "    row_sum = np.sum(squared_loadings[i])\n",
    "    for j in range(squared_loadings.shape[1]):\n",
    "        variable_contributions[i,j] = (squared_loadings[i,j]/row_sum) * 100"
   ]
  },
  {
   "cell_type": "code",
   "execution_count": 118,
   "metadata": {},
   "outputs": [
    {
     "data": {
      "text/plain": [
       "array([[1.49374293e+01, 6.66872678e+00, 1.45163066e+01, 1.28803395e+01,\n",
       "        1.69154505e+01, 5.77935019e+00, 1.45447001e+01, 1.37576970e+01],\n",
       "       [1.01122430e+01, 2.40967352e+01, 7.79959086e+00, 1.47637566e+01,\n",
       "        1.69601171e+00, 2.22868517e+01, 6.72839116e+00, 1.25164198e+01],\n",
       "       [3.65086855e-01, 8.93750546e+00, 8.45338882e+00, 2.03363082e+00,\n",
       "        7.01086362e-01, 6.95455162e+01, 9.96291245e+00, 8.73047394e-04],\n",
       "       [1.25564349e-02, 5.34580418e+01, 8.80047549e+00, 6.87741977e+00,\n",
       "        7.04534100e+00, 2.46851669e-02, 1.70540463e+01, 6.72743410e+00],\n",
       "       [5.46804020e+00, 6.65606578e+00, 1.21374605e+01, 8.70435696e+00,\n",
       "        5.14876329e+01, 1.54365303e+00, 2.15106848e+00, 1.18517221e+01],\n",
       "       [1.06009611e-01, 7.91593392e-03, 4.22752568e+01, 5.56134619e+00,\n",
       "        9.43534628e-01, 4.02662020e-01, 3.79772721e+01, 1.27260027e+01],\n",
       "       [6.87219399e+01, 2.25737774e-03, 1.82873995e-01, 8.70614796e+00,\n",
       "        1.95621821e+01, 2.36920333e-01, 3.28382038e-03, 2.58439449e+00],\n",
       "       [2.76694712e-01, 1.72751711e-01, 5.83464696e+00, 4.04730022e+01,\n",
       "        1.64876072e+00, 1.80361402e-01, 1.15783256e+01, 3.98354567e+01]])"
      ]
     },
     "execution_count": 118,
     "metadata": {},
     "output_type": "execute_result"
    }
   ],
   "source": [
    "variable_contributions"
   ]
  },
  {
   "cell_type": "markdown",
   "metadata": {},
   "source": [
    "10_ Calculul contributiilor"
   ]
  },
  {
   "cell_type": "code",
   "execution_count": 122,
   "metadata": {},
   "outputs": [],
   "source": [
    "loadings = pca.components_\n",
    "communalities = np.sum(loadings**2, axis=0)"
   ]
  },
  {
   "cell_type": "code",
   "execution_count": 126,
   "metadata": {},
   "outputs": [
    {
     "data": {
      "text/plain": [
       "array([1., 1., 1., 1., 1., 1., 1., 1.])"
      ]
     },
     "execution_count": 126,
     "metadata": {},
     "output_type": "execute_result"
    }
   ],
   "source": [
    "communalities"
   ]
  },
  {
   "cell_type": "markdown",
   "metadata": {},
   "source": [
    "### 11_ Trasare corelograma comunalitati\n",
    "- Pentru a trasa corelograma ne folosim de heatmap din seaborn \n",
    "- Parametrul cel mai important din heatmap sunt comunalitaile obitnute la (10) pe care le punem intr-un dataframe"
   ]
  },
  {
   "cell_type": "code",
   "execution_count": null,
   "metadata": {},
   "outputs": [],
   "source": [
    "df_comunalitati = pd.DataFrame()"
   ]
  }
 ],
 "metadata": {
  "kernelspec": {
   "display_name": "Python 3",
   "language": "python",
   "name": "python3"
  },
  "language_info": {
   "codemirror_mode": {
    "name": "ipython",
    "version": 3
   },
   "file_extension": ".py",
   "mimetype": "text/x-python",
   "name": "python",
   "nbconvert_exporter": "python",
   "pygments_lexer": "ipython3",
   "version": "3.12.5"
  }
 },
 "nbformat": 4,
 "nbformat_minor": 2
}
